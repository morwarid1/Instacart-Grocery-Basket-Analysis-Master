{
 "cells": [
  {
   "cell_type": "markdown",
   "metadata": {},
   "source": [
    "# Sourcing Open Data"
   ]
  },
  {
   "cell_type": "code",
   "execution_count": 1,
   "metadata": {},
   "outputs": [],
   "source": [
    "# importing libraries\n",
    "import pandas as pd\n",
    "import numpy as np\n",
    "import os "
   ]
  },
  {
   "cell_type": "code",
   "execution_count": 2,
   "metadata": {},
   "outputs": [],
   "source": [
    "# Creating path \n",
    "path = r'/Users/monajafizada/Documents/DataAnalytics/A6 advanced analytics and dashboard design/Project Information'"
   ]
  },
  {
   "cell_type": "code",
   "execution_count": null,
   "metadata": {},
   "outputs": [],
   "source": []
  },
  {
   "cell_type": "markdown",
   "metadata": {},
   "source": [
    "### Data 1"
   ]
  },
  {
   "cell_type": "code",
   "execution_count": 89,
   "metadata": {},
   "outputs": [],
   "source": [
    "# importing Covid data of deaths by sex, age and states\n",
    "Covid_Deaths_by_sex_age_States = pd.read_csv(os.path.join(path, '02 Data', 'OriginalData','covid_19', 'COVID-19_Death_Counts_by_Sex__Age__and_State.csv'), index_col = False)"
   ]
  },
  {
   "cell_type": "code",
   "execution_count": 90,
   "metadata": {},
   "outputs": [
    {
     "data": {
      "text/plain": [
       "(1416, 7)"
      ]
     },
     "execution_count": 90,
     "metadata": {},
     "output_type": "execute_result"
    }
   ],
   "source": [
    "Covid_Deaths_by_sex_age_States.shape"
   ]
  },
  {
   "cell_type": "code",
   "execution_count": 91,
   "metadata": {},
   "outputs": [],
   "source": [
    "# looking for missing value \n",
    "Clean_1 = Covid_Deaths_by_sex_age_States.isnull().sum()"
   ]
  },
  {
   "cell_type": "code",
   "execution_count": 92,
   "metadata": {},
   "outputs": [
    {
     "data": {
      "text/plain": [
       "Data as of           0\n",
       "Start week           0\n",
       "End Week             0\n",
       "State                0\n",
       "Sex                  0\n",
       "Age group            0\n",
       "COVID-19 Deaths    278\n",
       "dtype: int64"
      ]
     },
     "execution_count": 92,
     "metadata": {},
     "output_type": "execute_result"
    }
   ],
   "source": [
    "Clean_1"
   ]
  },
  {
   "cell_type": "code",
   "execution_count": 93,
   "metadata": {},
   "outputs": [
    {
     "data": {
      "text/html": [
       "<div>\n",
       "<style scoped>\n",
       "    .dataframe tbody tr th:only-of-type {\n",
       "        vertical-align: middle;\n",
       "    }\n",
       "\n",
       "    .dataframe tbody tr th {\n",
       "        vertical-align: top;\n",
       "    }\n",
       "\n",
       "    .dataframe thead th {\n",
       "        text-align: right;\n",
       "    }\n",
       "</style>\n",
       "<table border=\"1\" class=\"dataframe\">\n",
       "  <thead>\n",
       "    <tr style=\"text-align: right;\">\n",
       "      <th></th>\n",
       "      <th>COVID-19 Deaths</th>\n",
       "    </tr>\n",
       "  </thead>\n",
       "  <tbody>\n",
       "    <tr>\n",
       "      <th>count</th>\n",
       "      <td>1138.000000</td>\n",
       "    </tr>\n",
       "    <tr>\n",
       "      <th>mean</th>\n",
       "      <td>1048.084359</td>\n",
       "    </tr>\n",
       "    <tr>\n",
       "      <th>std</th>\n",
       "      <td>7531.272179</td>\n",
       "    </tr>\n",
       "    <tr>\n",
       "      <th>min</th>\n",
       "      <td>0.000000</td>\n",
       "    </tr>\n",
       "    <tr>\n",
       "      <th>25%</th>\n",
       "      <td>0.000000</td>\n",
       "    </tr>\n",
       "    <tr>\n",
       "      <th>50%</th>\n",
       "      <td>34.000000</td>\n",
       "    </tr>\n",
       "    <tr>\n",
       "      <th>75%</th>\n",
       "      <td>263.500000</td>\n",
       "    </tr>\n",
       "    <tr>\n",
       "      <th>max</th>\n",
       "      <td>149192.000000</td>\n",
       "    </tr>\n",
       "  </tbody>\n",
       "</table>\n",
       "</div>"
      ],
      "text/plain": [
       "       COVID-19 Deaths\n",
       "count      1138.000000\n",
       "mean       1048.084359\n",
       "std        7531.272179\n",
       "min           0.000000\n",
       "25%           0.000000\n",
       "50%          34.000000\n",
       "75%         263.500000\n",
       "max      149192.000000"
      ]
     },
     "execution_count": 93,
     "metadata": {},
     "output_type": "execute_result"
    }
   ],
   "source": [
    "# addressing missing values\n",
    "Covid_Deaths_by_sex_age_States.describe()"
   ]
  },
  {
   "cell_type": "code",
   "execution_count": 35,
   "metadata": {},
   "outputs": [],
   "source": [
    "# replacing missing value \n",
    "Covid_Deaths_by_sex_age_States['COVID-19 Deaths'].fillna(1048.084359, inplace=True)"
   ]
  },
  {
   "cell_type": "code",
   "execution_count": 79,
   "metadata": {},
   "outputs": [],
   "source": [
    "# finding duplicated values\n",
    "dop = Clean_1[Clean_1.duplicated()]"
   ]
  },
  {
   "cell_type": "code",
   "execution_count": 80,
   "metadata": {},
   "outputs": [
    {
     "data": {
      "text/plain": [
       "Start week         0\n",
       "End Week           0\n",
       "State              0\n",
       "Sex                0\n",
       "Age group          0\n",
       "COVID-19 Deaths    0\n",
       "dtype: int64"
      ]
     },
     "execution_count": 80,
     "metadata": {},
     "output_type": "execute_result"
    }
   ],
   "source": [
    "dop"
   ]
  },
  {
   "cell_type": "code",
   "execution_count": null,
   "metadata": {},
   "outputs": [],
   "source": []
  },
  {
   "cell_type": "markdown",
   "metadata": {},
   "source": []
  },
  {
   "cell_type": "markdown",
   "metadata": {},
   "source": [
    "### Data 2"
   ]
  },
  {
   "cell_type": "code",
   "execution_count": 5,
   "metadata": {},
   "outputs": [],
   "source": [
    "# importing Covid data of USA by cities\n",
    "Covid_USA_City = pd.read_csv(os.path.join(path, '02 Data', 'OriginalData','covid_19', 'covid_19_usa_city.csv'), index_col = False)"
   ]
  },
  {
   "cell_type": "code",
   "execution_count": 15,
   "metadata": {},
   "outputs": [
    {
     "data": {
      "text/plain": [
       "(9660, 11)"
      ]
     },
     "execution_count": 15,
     "metadata": {},
     "output_type": "execute_result"
    }
   ],
   "source": [
    "Covid_USA_City.shape"
   ]
  },
  {
   "cell_type": "code",
   "execution_count": 43,
   "metadata": {},
   "outputs": [
    {
     "data": {
      "text/html": [
       "<div>\n",
       "<style scoped>\n",
       "    .dataframe tbody tr th:only-of-type {\n",
       "        vertical-align: middle;\n",
       "    }\n",
       "\n",
       "    .dataframe tbody tr th {\n",
       "        vertical-align: top;\n",
       "    }\n",
       "\n",
       "    .dataframe thead th {\n",
       "        text-align: right;\n",
       "    }\n",
       "</style>\n",
       "<table border=\"1\" class=\"dataframe\">\n",
       "  <thead>\n",
       "    <tr style=\"text-align: right;\">\n",
       "      <th></th>\n",
       "      <th>City</th>\n",
       "      <th>Total Cases</th>\n",
       "      <th>New Cases</th>\n",
       "      <th>Total Deaths</th>\n",
       "      <th>New Deaths</th>\n",
       "      <th>Active Cases</th>\n",
       "      <th>Total Cases /1M pop</th>\n",
       "      <th>Deaths /1M pop</th>\n",
       "      <th>Total Tests</th>\n",
       "      <th>Tests /1M pop</th>\n",
       "      <th>Date</th>\n",
       "    </tr>\n",
       "  </thead>\n",
       "  <tbody>\n",
       "    <tr>\n",
       "      <th>0</th>\n",
       "      <td>New York</td>\n",
       "      <td>188694</td>\n",
       "      <td>7550.000000</td>\n",
       "      <td>9385.0</td>\n",
       "      <td>758</td>\n",
       "      <td>162220</td>\n",
       "      <td>9618.0</td>\n",
       "      <td>478.0</td>\n",
       "      <td>461601.0</td>\n",
       "      <td>23,529</td>\n",
       "      <td>04-12-2020</td>\n",
       "    </tr>\n",
       "    <tr>\n",
       "      <th>1</th>\n",
       "      <td>New Jersey</td>\n",
       "      <td>61850</td>\n",
       "      <td>3699.000000</td>\n",
       "      <td>2350.0</td>\n",
       "      <td>167</td>\n",
       "      <td>58818</td>\n",
       "      <td>6964.0</td>\n",
       "      <td>265.0</td>\n",
       "      <td>126735.0</td>\n",
       "      <td>14,269</td>\n",
       "      <td>04-12-2020</td>\n",
       "    </tr>\n",
       "    <tr>\n",
       "      <th>2</th>\n",
       "      <td>Michigan</td>\n",
       "      <td>23993</td>\n",
       "      <td>597.950107</td>\n",
       "      <td>1392.0</td>\n",
       "      <td></td>\n",
       "      <td>22158</td>\n",
       "      <td>2410.0</td>\n",
       "      <td>140.0</td>\n",
       "      <td>76014.0</td>\n",
       "      <td>7,634</td>\n",
       "      <td>04-12-2020</td>\n",
       "    </tr>\n",
       "    <tr>\n",
       "      <th>3</th>\n",
       "      <td>Massachusetts</td>\n",
       "      <td>22860</td>\n",
       "      <td>597.950107</td>\n",
       "      <td>686.0</td>\n",
       "      <td></td>\n",
       "      <td>21445</td>\n",
       "      <td>3347.0</td>\n",
       "      <td>100.0</td>\n",
       "      <td>108776.0</td>\n",
       "      <td>15,926</td>\n",
       "      <td>04-12-2020</td>\n",
       "    </tr>\n",
       "    <tr>\n",
       "      <th>4</th>\n",
       "      <td>Pennsylvania</td>\n",
       "      <td>22833</td>\n",
       "      <td>1029.000000</td>\n",
       "      <td>507.0</td>\n",
       "      <td>6</td>\n",
       "      <td>21676</td>\n",
       "      <td>1785.0</td>\n",
       "      <td>40.0</td>\n",
       "      <td>124890.0</td>\n",
       "      <td>9,764</td>\n",
       "      <td>04-12-2020</td>\n",
       "    </tr>\n",
       "  </tbody>\n",
       "</table>\n",
       "</div>"
      ],
      "text/plain": [
       "             City  Total Cases    New Cases  Total Deaths New Deaths  \\\n",
       "0       New York        188694  7550.000000        9385.0       758    \n",
       "1     New Jersey         61850  3699.000000        2350.0       167    \n",
       "2       Michigan         23993   597.950107        1392.0              \n",
       "3  Massachusetts         22860   597.950107         686.0              \n",
       "4   Pennsylvania         22833  1029.000000         507.0         6    \n",
       "\n",
       "  Active Cases  Total Cases /1M pop Deaths /1M pop  Total Tests Tests /1M pop  \\\n",
       "0       162220               9618.0          478.0     461601.0        23,529   \n",
       "1        58818               6964.0          265.0     126735.0        14,269   \n",
       "2        22158               2410.0          140.0      76014.0         7,634   \n",
       "3        21445               3347.0          100.0     108776.0        15,926   \n",
       "4        21676               1785.0           40.0     124890.0         9,764   \n",
       "\n",
       "         Date  \n",
       "0  04-12-2020  \n",
       "1  04-12-2020  \n",
       "2  04-12-2020  \n",
       "3  04-12-2020  \n",
       "4  04-12-2020  "
      ]
     },
     "execution_count": 43,
     "metadata": {},
     "output_type": "execute_result"
    }
   ],
   "source": [
    "Covid_USA_City.head()"
   ]
  },
  {
   "cell_type": "code",
   "execution_count": 25,
   "metadata": {},
   "outputs": [
    {
     "data": {
      "text/plain": [
       "City                      0\n",
       "Total Cases               0\n",
       "New Cases              4990\n",
       "Total Deaths             20\n",
       "New Deaths                0\n",
       "Active Cases              0\n",
       "Total Cases /1M pop    1288\n",
       "Deaths /1M pop         1290\n",
       "Total Tests             387\n",
       "Tests /1M pop          1288\n",
       "Date                      0\n",
       "dtype: int64"
      ]
     },
     "execution_count": 25,
     "metadata": {},
     "output_type": "execute_result"
    }
   ],
   "source": [
    "# looking for missing value \n",
    "Covid_USA_City.isnull().sum()"
   ]
  },
  {
   "cell_type": "code",
   "execution_count": 36,
   "metadata": {},
   "outputs": [
    {
     "data": {
      "text/html": [
       "<div>\n",
       "<style scoped>\n",
       "    .dataframe tbody tr th:only-of-type {\n",
       "        vertical-align: middle;\n",
       "    }\n",
       "\n",
       "    .dataframe tbody tr th {\n",
       "        vertical-align: top;\n",
       "    }\n",
       "\n",
       "    .dataframe thead th {\n",
       "        text-align: right;\n",
       "    }\n",
       "</style>\n",
       "<table border=\"1\" class=\"dataframe\">\n",
       "  <thead>\n",
       "    <tr style=\"text-align: right;\">\n",
       "      <th></th>\n",
       "      <th>Total Cases</th>\n",
       "      <th>New Cases</th>\n",
       "      <th>Total Deaths</th>\n",
       "      <th>Total Cases /1M pop</th>\n",
       "      <th>Total Tests</th>\n",
       "    </tr>\n",
       "  </thead>\n",
       "  <tbody>\n",
       "    <tr>\n",
       "      <th>count</th>\n",
       "      <td>9660.000000</td>\n",
       "      <td>4670.000000</td>\n",
       "      <td>9640.000000</td>\n",
       "      <td>8372.000000</td>\n",
       "      <td>9.273000e+03</td>\n",
       "    </tr>\n",
       "    <tr>\n",
       "      <th>mean</th>\n",
       "      <td>59007.056315</td>\n",
       "      <td>597.950107</td>\n",
       "      <td>2200.081950</td>\n",
       "      <td>9117.790373</td>\n",
       "      <td>7.561917e+05</td>\n",
       "    </tr>\n",
       "    <tr>\n",
       "      <th>std</th>\n",
       "      <td>107659.478924</td>\n",
       "      <td>1150.095437</td>\n",
       "      <td>4626.932336</td>\n",
       "      <td>7587.737257</td>\n",
       "      <td>1.385831e+06</td>\n",
       "    </tr>\n",
       "    <tr>\n",
       "      <th>min</th>\n",
       "      <td>3.000000</td>\n",
       "      <td>1.000000</td>\n",
       "      <td>1.000000</td>\n",
       "      <td>265.000000</td>\n",
       "      <td>0.000000e+00</td>\n",
       "    </tr>\n",
       "    <tr>\n",
       "      <th>25%</th>\n",
       "      <td>5169.750000</td>\n",
       "      <td>70.000000</td>\n",
       "      <td>104.000000</td>\n",
       "      <td>2646.750000</td>\n",
       "      <td>8.530700e+04</td>\n",
       "    </tr>\n",
       "    <tr>\n",
       "      <th>50%</th>\n",
       "      <td>20046.500000</td>\n",
       "      <td>278.500000</td>\n",
       "      <td>551.000000</td>\n",
       "      <td>6940.500000</td>\n",
       "      <td>2.861000e+05</td>\n",
       "    </tr>\n",
       "    <tr>\n",
       "      <th>75%</th>\n",
       "      <td>64365.250000</td>\n",
       "      <td>700.000000</td>\n",
       "      <td>2108.000000</td>\n",
       "      <td>14114.500000</td>\n",
       "      <td>8.172700e+05</td>\n",
       "    </tr>\n",
       "    <tr>\n",
       "      <th>max</th>\n",
       "      <td>819524.000000</td>\n",
       "      <td>15300.000000</td>\n",
       "      <td>33246.000000</td>\n",
       "      <td>35715.000000</td>\n",
       "      <td>1.470520e+07</td>\n",
       "    </tr>\n",
       "  </tbody>\n",
       "</table>\n",
       "</div>"
      ],
      "text/plain": [
       "         Total Cases     New Cases  Total Deaths  Total Cases /1M pop  \\\n",
       "count    9660.000000   4670.000000   9640.000000          8372.000000   \n",
       "mean    59007.056315    597.950107   2200.081950          9117.790373   \n",
       "std    107659.478924   1150.095437   4626.932336          7587.737257   \n",
       "min         3.000000      1.000000      1.000000           265.000000   \n",
       "25%      5169.750000     70.000000    104.000000          2646.750000   \n",
       "50%     20046.500000    278.500000    551.000000          6940.500000   \n",
       "75%     64365.250000    700.000000   2108.000000         14114.500000   \n",
       "max    819524.000000  15300.000000  33246.000000         35715.000000   \n",
       "\n",
       "        Total Tests  \n",
       "count  9.273000e+03  \n",
       "mean   7.561917e+05  \n",
       "std    1.385831e+06  \n",
       "min    0.000000e+00  \n",
       "25%    8.530700e+04  \n",
       "50%    2.861000e+05  \n",
       "75%    8.172700e+05  \n",
       "max    1.470520e+07  "
      ]
     },
     "execution_count": 36,
     "metadata": {},
     "output_type": "execute_result"
    }
   ],
   "source": [
    "Covid_USA_City.describe()"
   ]
  },
  {
   "cell_type": "code",
   "execution_count": 38,
   "metadata": {},
   "outputs": [],
   "source": [
    "# replacing missing value \n",
    "Covid_USA_City['New Cases'].fillna(597.950107, inplace=True)"
   ]
  },
  {
   "cell_type": "code",
   "execution_count": 39,
   "metadata": {},
   "outputs": [],
   "source": [
    "Covid_USA_City['Total Deaths'].fillna(59007.056315, inplace=True)"
   ]
  },
  {
   "cell_type": "code",
   "execution_count": 40,
   "metadata": {},
   "outputs": [],
   "source": [
    "Covid_USA_City['Total Cases /1M pop'].fillna(9117.790373, inplace=True)"
   ]
  },
  {
   "cell_type": "code",
   "execution_count": 45,
   "metadata": {},
   "outputs": [],
   "source": [
    "Covid_USA_City['Total Tests'].fillna(756191.7, inplace=True)"
   ]
  },
  {
   "cell_type": "code",
   "execution_count": null,
   "metadata": {},
   "outputs": [],
   "source": [
    "# finding duplicated values\n",
    "df[df.duplicated()]"
   ]
  },
  {
   "cell_type": "code",
   "execution_count": null,
   "metadata": {},
   "outputs": [],
   "source": []
  },
  {
   "cell_type": "code",
   "execution_count": null,
   "metadata": {},
   "outputs": [],
   "source": []
  },
  {
   "cell_type": "code",
   "execution_count": null,
   "metadata": {},
   "outputs": [],
   "source": []
  },
  {
   "cell_type": "code",
   "execution_count": null,
   "metadata": {},
   "outputs": [],
   "source": []
  },
  {
   "cell_type": "code",
   "execution_count": null,
   "metadata": {},
   "outputs": [],
   "source": []
  },
  {
   "cell_type": "code",
   "execution_count": null,
   "metadata": {},
   "outputs": [],
   "source": []
  },
  {
   "cell_type": "code",
   "execution_count": null,
   "metadata": {},
   "outputs": [],
   "source": []
  },
  {
   "cell_type": "markdown",
   "metadata": {},
   "source": [
    "### Data 3"
   ]
  },
  {
   "cell_type": "code",
   "execution_count": 6,
   "metadata": {},
   "outputs": [],
   "source": [
    "# importing Covid data of all country\n",
    "Covid_country = pd.read_csv(os.path.join(path, '02 Data', 'OriginalData','covid_19', 'covid_country.csv'), index_col = False)"
   ]
  },
  {
   "cell_type": "code",
   "execution_count": 16,
   "metadata": {},
   "outputs": [
    {
     "data": {
      "text/plain": [
       "(34932, 14)"
      ]
     },
     "execution_count": 16,
     "metadata": {},
     "output_type": "execute_result"
    }
   ],
   "source": [
    "Covid_country.shape"
   ]
  },
  {
   "cell_type": "code",
   "execution_count": 26,
   "metadata": {},
   "outputs": [
    {
     "data": {
      "text/plain": [
       "Country                   0\n",
       "Total Cases               0\n",
       "New Cases             16951\n",
       "Total Deaths              0\n",
       "New Deaths            23741\n",
       "Total Recovered        1010\n",
       "Active Cases            500\n",
       "Serious/Critical      13668\n",
       "Total Cases/1M pop      310\n",
       "Deaths /1M pop         4967\n",
       "Total Tests            4166\n",
       "Tests /1M pop          4166\n",
       "Continent               310\n",
       "Date                      0\n",
       "dtype: int64"
      ]
     },
     "execution_count": 26,
     "metadata": {},
     "output_type": "execute_result"
    }
   ],
   "source": [
    "# looking for missing value \n",
    "Covid_country.isnull().sum()"
   ]
  },
  {
   "cell_type": "code",
   "execution_count": 44,
   "metadata": {},
   "outputs": [
    {
     "data": {
      "text/html": [
       "<div>\n",
       "<style scoped>\n",
       "    .dataframe tbody tr th:only-of-type {\n",
       "        vertical-align: middle;\n",
       "    }\n",
       "\n",
       "    .dataframe tbody tr th {\n",
       "        vertical-align: top;\n",
       "    }\n",
       "\n",
       "    .dataframe thead th {\n",
       "        text-align: right;\n",
       "    }\n",
       "</style>\n",
       "<table border=\"1\" class=\"dataframe\">\n",
       "  <thead>\n",
       "    <tr style=\"text-align: right;\">\n",
       "      <th></th>\n",
       "      <th>Total Cases</th>\n",
       "      <th>New Cases</th>\n",
       "      <th>New Deaths</th>\n",
       "      <th>Total Recovered</th>\n",
       "      <th>Active Cases</th>\n",
       "      <th>Serious/Critical</th>\n",
       "      <th>Total Cases/1M pop</th>\n",
       "      <th>Deaths /1M pop</th>\n",
       "      <th>Total Tests</th>\n",
       "      <th>Tests /1M pop</th>\n",
       "    </tr>\n",
       "  </thead>\n",
       "  <tbody>\n",
       "    <tr>\n",
       "      <th>count</th>\n",
       "      <td>3.493200e+04</td>\n",
       "      <td>17981.000000</td>\n",
       "      <td>11191.000000</td>\n",
       "      <td>3.392200e+04</td>\n",
       "      <td>3.443200e+04</td>\n",
       "      <td>21264.000000</td>\n",
       "      <td>34622.000000</td>\n",
       "      <td>29965.000000</td>\n",
       "      <td>3.076600e+04</td>\n",
       "      <td>3.076600e+04</td>\n",
       "    </tr>\n",
       "    <tr>\n",
       "      <th>mean</th>\n",
       "      <td>1.320151e+05</td>\n",
       "      <td>2072.050442</td>\n",
       "      <td>93.290591</td>\n",
       "      <td>8.539562e+04</td>\n",
       "      <td>4.178150e+04</td>\n",
       "      <td>894.676637</td>\n",
       "      <td>2494.602863</td>\n",
       "      <td>83.832219</td>\n",
       "      <td>1.086689e+06</td>\n",
       "      <td>6.706455e+04</td>\n",
       "    </tr>\n",
       "    <tr>\n",
       "      <th>std</th>\n",
       "      <td>1.222447e+06</td>\n",
       "      <td>13099.944475</td>\n",
       "      <td>422.380157</td>\n",
       "      <td>8.427015e+05</td>\n",
       "      <td>3.695752e+05</td>\n",
       "      <td>5369.876694</td>\n",
       "      <td>4689.434209</td>\n",
       "      <td>167.426666</td>\n",
       "      <td>5.792908e+06</td>\n",
       "      <td>1.638406e+05</td>\n",
       "    </tr>\n",
       "    <tr>\n",
       "      <th>min</th>\n",
       "      <td>1.000000e+00</td>\n",
       "      <td>1.000000</td>\n",
       "      <td>1.000000</td>\n",
       "      <td>1.000000e+00</td>\n",
       "      <td>-6.840000e+02</td>\n",
       "      <td>1.000000</td>\n",
       "      <td>0.030000</td>\n",
       "      <td>0.020000</td>\n",
       "      <td>1.000000e+01</td>\n",
       "      <td>4.000000e+00</td>\n",
       "    </tr>\n",
       "    <tr>\n",
       "      <th>25%</th>\n",
       "      <td>2.730000e+02</td>\n",
       "      <td>15.000000</td>\n",
       "      <td>2.000000</td>\n",
       "      <td>1.270000e+02</td>\n",
       "      <td>4.200000e+01</td>\n",
       "      <td>4.000000</td>\n",
       "      <td>138.000000</td>\n",
       "      <td>4.000000</td>\n",
       "      <td>1.000000e+04</td>\n",
       "      <td>4.507250e+03</td>\n",
       "    </tr>\n",
       "    <tr>\n",
       "      <th>50%</th>\n",
       "      <td>2.133500e+03</td>\n",
       "      <td>104.000000</td>\n",
       "      <td>6.000000</td>\n",
       "      <td>1.114500e+03</td>\n",
       "      <td>5.580000e+02</td>\n",
       "      <td>17.000000</td>\n",
       "      <td>619.000000</td>\n",
       "      <td>18.000000</td>\n",
       "      <td>8.312750e+04</td>\n",
       "      <td>1.921550e+04</td>\n",
       "    </tr>\n",
       "    <tr>\n",
       "      <th>75%</th>\n",
       "      <td>1.858925e+04</td>\n",
       "      <td>520.000000</td>\n",
       "      <td>27.000000</td>\n",
       "      <td>9.844500e+03</td>\n",
       "      <td>4.773250e+03</td>\n",
       "      <td>124.000000</td>\n",
       "      <td>2878.750000</td>\n",
       "      <td>71.000000</td>\n",
       "      <td>4.484055e+05</td>\n",
       "      <td>6.238150e+04</td>\n",
       "    </tr>\n",
       "    <tr>\n",
       "      <th>max</th>\n",
       "      <td>3.414980e+07</td>\n",
       "      <td>317951.000000</td>\n",
       "      <td>7716.000000</td>\n",
       "      <td>2.542227e+07</td>\n",
       "      <td>7.709313e+06</td>\n",
       "      <td>66596.000000</td>\n",
       "      <td>44789.000000</td>\n",
       "      <td>1326.000000</td>\n",
       "      <td>1.600000e+08</td>\n",
       "      <td>2.656757e+06</td>\n",
       "    </tr>\n",
       "  </tbody>\n",
       "</table>\n",
       "</div>"
      ],
      "text/plain": [
       "        Total Cases      New Cases    New Deaths  Total Recovered  \\\n",
       "count  3.493200e+04   17981.000000  11191.000000     3.392200e+04   \n",
       "mean   1.320151e+05    2072.050442     93.290591     8.539562e+04   \n",
       "std    1.222447e+06   13099.944475    422.380157     8.427015e+05   \n",
       "min    1.000000e+00       1.000000      1.000000     1.000000e+00   \n",
       "25%    2.730000e+02      15.000000      2.000000     1.270000e+02   \n",
       "50%    2.133500e+03     104.000000      6.000000     1.114500e+03   \n",
       "75%    1.858925e+04     520.000000     27.000000     9.844500e+03   \n",
       "max    3.414980e+07  317951.000000   7716.000000     2.542227e+07   \n",
       "\n",
       "       Active Cases  Serious/Critical  Total Cases/1M pop  Deaths /1M pop  \\\n",
       "count  3.443200e+04      21264.000000        34622.000000    29965.000000   \n",
       "mean   4.178150e+04        894.676637         2494.602863       83.832219   \n",
       "std    3.695752e+05       5369.876694         4689.434209      167.426666   \n",
       "min   -6.840000e+02          1.000000            0.030000        0.020000   \n",
       "25%    4.200000e+01          4.000000          138.000000        4.000000   \n",
       "50%    5.580000e+02         17.000000          619.000000       18.000000   \n",
       "75%    4.773250e+03        124.000000         2878.750000       71.000000   \n",
       "max    7.709313e+06      66596.000000        44789.000000     1326.000000   \n",
       "\n",
       "        Total Tests  Tests /1M pop  \n",
       "count  3.076600e+04   3.076600e+04  \n",
       "mean   1.086689e+06   6.706455e+04  \n",
       "std    5.792908e+06   1.638406e+05  \n",
       "min    1.000000e+01   4.000000e+00  \n",
       "25%    1.000000e+04   4.507250e+03  \n",
       "50%    8.312750e+04   1.921550e+04  \n",
       "75%    4.484055e+05   6.238150e+04  \n",
       "max    1.600000e+08   2.656757e+06  "
      ]
     },
     "execution_count": 44,
     "metadata": {},
     "output_type": "execute_result"
    }
   ],
   "source": [
    "Covid_country.describe()"
   ]
  },
  {
   "cell_type": "code",
   "execution_count": 46,
   "metadata": {},
   "outputs": [],
   "source": [
    "# replacing missing value \n",
    "Covid_country['New Cases'].fillna(2072.050442, inplace=True)"
   ]
  },
  {
   "cell_type": "code",
   "execution_count": 47,
   "metadata": {},
   "outputs": [],
   "source": [
    "Covid_country['New Deaths'].fillna(93.290591, inplace=True)"
   ]
  },
  {
   "cell_type": "code",
   "execution_count": 48,
   "metadata": {},
   "outputs": [],
   "source": [
    "Covid_country['Total Recovered'].fillna(85395.62, inplace=True)"
   ]
  },
  {
   "cell_type": "code",
   "execution_count": 49,
   "metadata": {},
   "outputs": [],
   "source": [
    "Covid_country['Active Cases'].fillna(41781.50, inplace=True)"
   ]
  },
  {
   "cell_type": "code",
   "execution_count": 50,
   "metadata": {},
   "outputs": [],
   "source": [
    "Covid_country['Serious/Critical'].fillna(894.676637, inplace=True)"
   ]
  },
  {
   "cell_type": "code",
   "execution_count": 51,
   "metadata": {},
   "outputs": [],
   "source": [
    "Covid_country['Total Cases/1M pop'].fillna(2494.602863, inplace=True)"
   ]
  },
  {
   "cell_type": "code",
   "execution_count": 52,
   "metadata": {},
   "outputs": [],
   "source": [
    "Covid_country['Deaths /1M pop'].fillna(83.832219, inplace=True)"
   ]
  },
  {
   "cell_type": "code",
   "execution_count": 53,
   "metadata": {},
   "outputs": [],
   "source": [
    "Covid_country['Total Tests'].fillna(1086689., inplace=True)"
   ]
  },
  {
   "cell_type": "code",
   "execution_count": 54,
   "metadata": {},
   "outputs": [],
   "source": [
    "Covid_country['Tests /1M pop'].fillna(67064.55, inplace=True)"
   ]
  },
  {
   "cell_type": "code",
   "execution_count": null,
   "metadata": {},
   "outputs": [],
   "source": [
    "# finding duplicated values\n",
    "df[df.duplicated()]"
   ]
  },
  {
   "cell_type": "code",
   "execution_count": null,
   "metadata": {},
   "outputs": [],
   "source": []
  },
  {
   "cell_type": "code",
   "execution_count": null,
   "metadata": {},
   "outputs": [],
   "source": []
  },
  {
   "cell_type": "markdown",
   "metadata": {},
   "source": []
  },
  {
   "cell_type": "markdown",
   "metadata": {},
   "source": [
    "### Data 4"
   ]
  },
  {
   "cell_type": "code",
   "execution_count": 7,
   "metadata": {},
   "outputs": [],
   "source": [
    "# importing general Covid data \n",
    "Covid_Data = pd.read_csv(os.path.join(path, '02 Data', 'OriginalData','covid_19', 'C19_data.csv'), index_col = False)"
   ]
  },
  {
   "cell_type": "code",
   "execution_count": 17,
   "metadata": {},
   "outputs": [
    {
     "data": {
      "text/plain": [
       "(116805, 8)"
      ]
     },
     "execution_count": 17,
     "metadata": {},
     "output_type": "execute_result"
    }
   ],
   "source": [
    "Covid_Data.shape"
   ]
  },
  {
   "cell_type": "code",
   "execution_count": 27,
   "metadata": {},
   "outputs": [
    {
     "data": {
      "text/plain": [
       "SNo                    0\n",
       "ObservationDate        0\n",
       "Province/State     35353\n",
       "Country/Region         0\n",
       "Last Update            0\n",
       "Confirmed              0\n",
       "Deaths                 0\n",
       "Recovered              0\n",
       "dtype: int64"
      ]
     },
     "execution_count": 27,
     "metadata": {},
     "output_type": "execute_result"
    }
   ],
   "source": [
    "# looking for missing value \n",
    "Covid_Data.isnull().sum()"
   ]
  },
  {
   "cell_type": "code",
   "execution_count": 55,
   "metadata": {},
   "outputs": [
    {
     "data": {
      "text/html": [
       "<div>\n",
       "<style scoped>\n",
       "    .dataframe tbody tr th:only-of-type {\n",
       "        vertical-align: middle;\n",
       "    }\n",
       "\n",
       "    .dataframe tbody tr th {\n",
       "        vertical-align: top;\n",
       "    }\n",
       "\n",
       "    .dataframe thead th {\n",
       "        text-align: right;\n",
       "    }\n",
       "</style>\n",
       "<table border=\"1\" class=\"dataframe\">\n",
       "  <thead>\n",
       "    <tr style=\"text-align: right;\">\n",
       "      <th></th>\n",
       "      <th>SNo</th>\n",
       "      <th>Confirmed</th>\n",
       "      <th>Deaths</th>\n",
       "      <th>Recovered</th>\n",
       "    </tr>\n",
       "  </thead>\n",
       "  <tbody>\n",
       "    <tr>\n",
       "      <th>count</th>\n",
       "      <td>116805.000000</td>\n",
       "      <td>1.168050e+05</td>\n",
       "      <td>116805.000000</td>\n",
       "      <td>1.168050e+05</td>\n",
       "    </tr>\n",
       "    <tr>\n",
       "      <th>mean</th>\n",
       "      <td>58403.000000</td>\n",
       "      <td>1.908217e+04</td>\n",
       "      <td>777.745473</td>\n",
       "      <td>1.117002e+04</td>\n",
       "    </tr>\n",
       "    <tr>\n",
       "      <th>std</th>\n",
       "      <td>33718.843434</td>\n",
       "      <td>5.825465e+04</td>\n",
       "      <td>2859.184068</td>\n",
       "      <td>6.258701e+04</td>\n",
       "    </tr>\n",
       "    <tr>\n",
       "      <th>min</th>\n",
       "      <td>1.000000</td>\n",
       "      <td>0.000000e+00</td>\n",
       "      <td>0.000000</td>\n",
       "      <td>0.000000e+00</td>\n",
       "    </tr>\n",
       "    <tr>\n",
       "      <th>25%</th>\n",
       "      <td>29202.000000</td>\n",
       "      <td>2.450000e+02</td>\n",
       "      <td>3.000000</td>\n",
       "      <td>4.000000e+00</td>\n",
       "    </tr>\n",
       "    <tr>\n",
       "      <th>50%</th>\n",
       "      <td>58403.000000</td>\n",
       "      <td>2.148000e+03</td>\n",
       "      <td>42.000000</td>\n",
       "      <td>4.260000e+02</td>\n",
       "    </tr>\n",
       "    <tr>\n",
       "      <th>75%</th>\n",
       "      <td>87604.000000</td>\n",
       "      <td>1.037400e+04</td>\n",
       "      <td>331.000000</td>\n",
       "      <td>3.829000e+03</td>\n",
       "    </tr>\n",
       "    <tr>\n",
       "      <th>max</th>\n",
       "      <td>116805.000000</td>\n",
       "      <td>1.242770e+06</td>\n",
       "      <td>42072.000000</td>\n",
       "      <td>2.670256e+06</td>\n",
       "    </tr>\n",
       "  </tbody>\n",
       "</table>\n",
       "</div>"
      ],
      "text/plain": [
       "                 SNo     Confirmed         Deaths     Recovered\n",
       "count  116805.000000  1.168050e+05  116805.000000  1.168050e+05\n",
       "mean    58403.000000  1.908217e+04     777.745473  1.117002e+04\n",
       "std     33718.843434  5.825465e+04    2859.184068  6.258701e+04\n",
       "min         1.000000  0.000000e+00       0.000000  0.000000e+00\n",
       "25%     29202.000000  2.450000e+02       3.000000  4.000000e+00\n",
       "50%     58403.000000  2.148000e+03      42.000000  4.260000e+02\n",
       "75%     87604.000000  1.037400e+04     331.000000  3.829000e+03\n",
       "max    116805.000000  1.242770e+06   42072.000000  2.670256e+06"
      ]
     },
     "execution_count": 55,
     "metadata": {},
     "output_type": "execute_result"
    }
   ],
   "source": [
    "Covid_Data.describe()"
   ]
  },
  {
   "cell_type": "code",
   "execution_count": null,
   "metadata": {},
   "outputs": [],
   "source": [
    "# addressinf missing value = no action was taken"
   ]
  },
  {
   "cell_type": "code",
   "execution_count": 76,
   "metadata": {},
   "outputs": [
    {
     "data": {
      "text/html": [
       "<div>\n",
       "<style scoped>\n",
       "    .dataframe tbody tr th:only-of-type {\n",
       "        vertical-align: middle;\n",
       "    }\n",
       "\n",
       "    .dataframe tbody tr th {\n",
       "        vertical-align: top;\n",
       "    }\n",
       "\n",
       "    .dataframe thead th {\n",
       "        text-align: right;\n",
       "    }\n",
       "</style>\n",
       "<table border=\"1\" class=\"dataframe\">\n",
       "  <thead>\n",
       "    <tr style=\"text-align: right;\">\n",
       "      <th></th>\n",
       "      <th>SNo</th>\n",
       "      <th>ObservationDate</th>\n",
       "      <th>Province/State</th>\n",
       "      <th>Country/Region</th>\n",
       "      <th>Last Update</th>\n",
       "      <th>Confirmed</th>\n",
       "      <th>Deaths</th>\n",
       "      <th>Recovered</th>\n",
       "    </tr>\n",
       "  </thead>\n",
       "  <tbody>\n",
       "  </tbody>\n",
       "</table>\n",
       "</div>"
      ],
      "text/plain": [
       "Empty DataFrame\n",
       "Columns: [SNo, ObservationDate, Province/State, Country/Region, Last Update, Confirmed, Deaths, Recovered]\n",
       "Index: []"
      ]
     },
     "execution_count": 76,
     "metadata": {},
     "output_type": "execute_result"
    }
   ],
   "source": [
    "# finding duplicated values\n",
    "Covid_Data[Covid_Data.duplicated()]"
   ]
  },
  {
   "cell_type": "code",
   "execution_count": null,
   "metadata": {},
   "outputs": [],
   "source": []
  },
  {
   "cell_type": "code",
   "execution_count": null,
   "metadata": {},
   "outputs": [],
   "source": []
  },
  {
   "cell_type": "code",
   "execution_count": null,
   "metadata": {},
   "outputs": [],
   "source": []
  },
  {
   "cell_type": "markdown",
   "metadata": {},
   "source": []
  },
  {
   "cell_type": "markdown",
   "metadata": {},
   "source": [
    "### Data 5"
   ]
  },
  {
   "cell_type": "code",
   "execution_count": 81,
   "metadata": {},
   "outputs": [],
   "source": [
    "# importing general Covid data of the world\n",
    "Covid_open_line = pd.read_csv(os.path.join(path, '02 Data', 'OriginalData','covid_19', 'C19_open_line_list.csv'), index_col = False)"
   ]
  },
  {
   "cell_type": "code",
   "execution_count": 82,
   "metadata": {},
   "outputs": [
    {
     "data": {
      "text/plain": [
       "(13174, 33)"
      ]
     },
     "execution_count": 82,
     "metadata": {},
     "output_type": "execute_result"
    }
   ],
   "source": [
    "Covid_open_line.shape"
   ]
  },
  {
   "cell_type": "code",
   "execution_count": 83,
   "metadata": {},
   "outputs": [],
   "source": [
    "# looking for missing value\n",
    "Clean_5 = Covid_open_line.isnull().sum()"
   ]
  },
  {
   "cell_type": "code",
   "execution_count": 84,
   "metadata": {},
   "outputs": [
    {
     "data": {
      "text/plain": [
       "ID                              1\n",
       "age                         11825\n",
       "sex                         11910\n",
       "city                         2980\n",
       "province                      268\n",
       "country                        26\n",
       "wuhan(0)_not_wuhan(1)           4\n",
       "latitude                       27\n",
       "longitude                      27\n",
       "geo_resolution                 27\n",
       "date_onset_symptoms         12428\n",
       "date_admission_hospital     12444\n",
       "date_confirmation              85\n",
       "symptoms                    12681\n",
       "lives_in_Wuhan              12609\n",
       "travel_history_dates        12671\n",
       "travel_history_location     12416\n",
       "reported_market_exposure    13139\n",
       "additional_information      10762\n",
       "chronic_disease_binary      13156\n",
       "chronic_disease             13161\n",
       "source                        224\n",
       "sequence_available          13173\n",
       "outcome                     12990\n",
       "date_death_or_discharge     13081\n",
       "notes_for_discussion        12987\n",
       "location                    12150\n",
       "admin3                      12015\n",
       "admin2                       4106\n",
       "admin1                        297\n",
       "country_new                    95\n",
       "admin_id                       71\n",
       "data_moderator_initials     13157\n",
       "dtype: int64"
      ]
     },
     "execution_count": 84,
     "metadata": {},
     "output_type": "execute_result"
    }
   ],
   "source": [
    "Clean_5"
   ]
  },
  {
   "cell_type": "code",
   "execution_count": 86,
   "metadata": {},
   "outputs": [
    {
     "data": {
      "text/html": [
       "<div>\n",
       "<style scoped>\n",
       "    .dataframe tbody tr th:only-of-type {\n",
       "        vertical-align: middle;\n",
       "    }\n",
       "\n",
       "    .dataframe tbody tr th {\n",
       "        vertical-align: top;\n",
       "    }\n",
       "\n",
       "    .dataframe thead th {\n",
       "        text-align: right;\n",
       "    }\n",
       "</style>\n",
       "<table border=\"1\" class=\"dataframe\">\n",
       "  <thead>\n",
       "    <tr style=\"text-align: right;\">\n",
       "      <th></th>\n",
       "      <th>ID</th>\n",
       "      <th>wuhan(0)_not_wuhan(1)</th>\n",
       "      <th>latitude</th>\n",
       "      <th>longitude</th>\n",
       "      <th>chronic_disease_binary</th>\n",
       "    </tr>\n",
       "  </thead>\n",
       "  <tbody>\n",
       "    <tr>\n",
       "      <th>count</th>\n",
       "      <td>13173.000000</td>\n",
       "      <td>13170.0</td>\n",
       "      <td>13147.000000</td>\n",
       "      <td>13147.000000</td>\n",
       "      <td>18.000000</td>\n",
       "    </tr>\n",
       "    <tr>\n",
       "      <th>mean</th>\n",
       "      <td>6769.250436</td>\n",
       "      <td>1.0</td>\n",
       "      <td>31.994650</td>\n",
       "      <td>110.495353</td>\n",
       "      <td>0.722222</td>\n",
       "    </tr>\n",
       "    <tr>\n",
       "      <th>std</th>\n",
       "      <td>3920.886020</td>\n",
       "      <td>0.0</td>\n",
       "      <td>7.536335</td>\n",
       "      <td>27.985144</td>\n",
       "      <td>0.460889</td>\n",
       "    </tr>\n",
       "    <tr>\n",
       "      <th>min</th>\n",
       "      <td>1.000000</td>\n",
       "      <td>1.0</td>\n",
       "      <td>-37.813600</td>\n",
       "      <td>-124.953070</td>\n",
       "      <td>0.000000</td>\n",
       "    </tr>\n",
       "    <tr>\n",
       "      <th>25%</th>\n",
       "      <td>3351.000000</td>\n",
       "      <td>1.0</td>\n",
       "      <td>27.905380</td>\n",
       "      <td>111.729600</td>\n",
       "      <td>0.250000</td>\n",
       "    </tr>\n",
       "    <tr>\n",
       "      <th>50%</th>\n",
       "      <td>6865.000000</td>\n",
       "      <td>1.0</td>\n",
       "      <td>31.759410</td>\n",
       "      <td>115.441800</td>\n",
       "      <td>1.000000</td>\n",
       "    </tr>\n",
       "    <tr>\n",
       "      <th>75%</th>\n",
       "      <td>10180.000000</td>\n",
       "      <td>1.0</td>\n",
       "      <td>35.781340</td>\n",
       "      <td>120.440400</td>\n",
       "      <td>1.000000</td>\n",
       "    </tr>\n",
       "    <tr>\n",
       "      <th>max</th>\n",
       "      <td>13479.000000</td>\n",
       "      <td>1.0</td>\n",
       "      <td>69.649468</td>\n",
       "      <td>153.400000</td>\n",
       "      <td>1.000000</td>\n",
       "    </tr>\n",
       "  </tbody>\n",
       "</table>\n",
       "</div>"
      ],
      "text/plain": [
       "                 ID  wuhan(0)_not_wuhan(1)      latitude     longitude  \\\n",
       "count  13173.000000                13170.0  13147.000000  13147.000000   \n",
       "mean    6769.250436                    1.0     31.994650    110.495353   \n",
       "std     3920.886020                    0.0      7.536335     27.985144   \n",
       "min        1.000000                    1.0    -37.813600   -124.953070   \n",
       "25%     3351.000000                    1.0     27.905380    111.729600   \n",
       "50%     6865.000000                    1.0     31.759410    115.441800   \n",
       "75%    10180.000000                    1.0     35.781340    120.440400   \n",
       "max    13479.000000                    1.0     69.649468    153.400000   \n",
       "\n",
       "       chronic_disease_binary  \n",
       "count               18.000000  \n",
       "mean                 0.722222  \n",
       "std                  0.460889  \n",
       "min                  0.000000  \n",
       "25%                  0.250000  \n",
       "50%                  1.000000  \n",
       "75%                  1.000000  \n",
       "max                  1.000000  "
      ]
     },
     "execution_count": 86,
     "metadata": {},
     "output_type": "execute_result"
    }
   ],
   "source": [
    "Covid_open_line.describe()"
   ]
  },
  {
   "cell_type": "code",
   "execution_count": 57,
   "metadata": {},
   "outputs": [],
   "source": [
    "# replacing missing value \n",
    "Covid_open_line['wuhan(0)_not_wuhan(1)'].fillna(1.0, inplace=True)"
   ]
  },
  {
   "cell_type": "code",
   "execution_count": 58,
   "metadata": {},
   "outputs": [],
   "source": [
    "Covid_open_line['latitude'].fillna(31.994650, inplace=True)"
   ]
  },
  {
   "cell_type": "code",
   "execution_count": 59,
   "metadata": {},
   "outputs": [],
   "source": [
    "Covid_open_line['longitude'].fillna(110.495353, inplace=True)"
   ]
  },
  {
   "cell_type": "code",
   "execution_count": 60,
   "metadata": {},
   "outputs": [],
   "source": [
    "Covid_open_line['chronic_disease_binary'].fillna(0.722222, inplace=True)"
   ]
  },
  {
   "cell_type": "code",
   "execution_count": null,
   "metadata": {},
   "outputs": [],
   "source": [
    "# some missing values were addressed as above - other missing values no action were taken against them"
   ]
  },
  {
   "cell_type": "code",
   "execution_count": 87,
   "metadata": {},
   "outputs": [],
   "source": [
    "# finding duplicated values\n",
    "dup = Clean_5[Clean_5.duplicated()]"
   ]
  },
  {
   "cell_type": "code",
   "execution_count": 88,
   "metadata": {},
   "outputs": [
    {
     "data": {
      "text/plain": [
       "longitude         27\n",
       "geo_resolution    27\n",
       "dtype: int64"
      ]
     },
     "execution_count": 88,
     "metadata": {},
     "output_type": "execute_result"
    }
   ],
   "source": [
    "dup"
   ]
  },
  {
   "cell_type": "code",
   "execution_count": null,
   "metadata": {},
   "outputs": [],
   "source": []
  },
  {
   "cell_type": "code",
   "execution_count": null,
   "metadata": {},
   "outputs": [],
   "source": []
  },
  {
   "cell_type": "code",
   "execution_count": null,
   "metadata": {},
   "outputs": [],
   "source": []
  },
  {
   "cell_type": "code",
   "execution_count": null,
   "metadata": {},
   "outputs": [],
   "source": []
  },
  {
   "cell_type": "code",
   "execution_count": null,
   "metadata": {},
   "outputs": [],
   "source": []
  },
  {
   "cell_type": "markdown",
   "metadata": {},
   "source": []
  },
  {
   "cell_type": "markdown",
   "metadata": {},
   "source": [
    "### Data 6"
   ]
  },
  {
   "cell_type": "code",
   "execution_count": 9,
   "metadata": {},
   "outputs": [],
   "source": [
    "# importing Covid data of US confrimed cases\n",
    "TS_US_Confirmed = pd.read_csv(os.path.join(path, '02 Data', 'OriginalData','covid_19', 'TS_C19_confirmed_US.csv'), index_col = False)"
   ]
  },
  {
   "cell_type": "code",
   "execution_count": 19,
   "metadata": {},
   "outputs": [
    {
     "data": {
      "text/plain": [
       "(3340, 257)"
      ]
     },
     "execution_count": 19,
     "metadata": {},
     "output_type": "execute_result"
    }
   ],
   "source": [
    "TS_US_Confirmed.shape"
   ]
  },
  {
   "cell_type": "code",
   "execution_count": 29,
   "metadata": {},
   "outputs": [
    {
     "data": {
      "text/plain": [
       "UID         0\n",
       "iso2        0\n",
       "iso3        0\n",
       "code3       0\n",
       "FIPS       10\n",
       "           ..\n",
       "9/19/20     0\n",
       "9/20/20     0\n",
       "9/21/20     0\n",
       "9/22/20     0\n",
       "9/23/20     0\n",
       "Length: 257, dtype: int64"
      ]
     },
     "execution_count": 29,
     "metadata": {},
     "output_type": "execute_result"
    }
   ],
   "source": [
    "# looking for missing value\n",
    "TS_US_Confirmed.isnull().sum()"
   ]
  },
  {
   "cell_type": "code",
   "execution_count": 61,
   "metadata": {},
   "outputs": [
    {
     "data": {
      "text/html": [
       "<div>\n",
       "<style scoped>\n",
       "    .dataframe tbody tr th:only-of-type {\n",
       "        vertical-align: middle;\n",
       "    }\n",
       "\n",
       "    .dataframe tbody tr th {\n",
       "        vertical-align: top;\n",
       "    }\n",
       "\n",
       "    .dataframe thead th {\n",
       "        text-align: right;\n",
       "    }\n",
       "</style>\n",
       "<table border=\"1\" class=\"dataframe\">\n",
       "  <thead>\n",
       "    <tr style=\"text-align: right;\">\n",
       "      <th></th>\n",
       "      <th>UID</th>\n",
       "      <th>code3</th>\n",
       "      <th>FIPS</th>\n",
       "      <th>Lat</th>\n",
       "      <th>Long_</th>\n",
       "      <th>1/22/20</th>\n",
       "      <th>1/23/20</th>\n",
       "      <th>1/24/20</th>\n",
       "      <th>1/25/20</th>\n",
       "      <th>1/26/20</th>\n",
       "      <th>...</th>\n",
       "      <th>9/14/20</th>\n",
       "      <th>9/15/20</th>\n",
       "      <th>9/16/20</th>\n",
       "      <th>9/17/20</th>\n",
       "      <th>9/18/20</th>\n",
       "      <th>9/19/20</th>\n",
       "      <th>9/20/20</th>\n",
       "      <th>9/21/20</th>\n",
       "      <th>9/22/20</th>\n",
       "      <th>9/23/20</th>\n",
       "    </tr>\n",
       "  </thead>\n",
       "  <tbody>\n",
       "    <tr>\n",
       "      <th>count</th>\n",
       "      <td>3.340000e+03</td>\n",
       "      <td>3340.000000</td>\n",
       "      <td>3330.000000</td>\n",
       "      <td>3340.000000</td>\n",
       "      <td>3340.000000</td>\n",
       "      <td>3340.000000</td>\n",
       "      <td>3340.000000</td>\n",
       "      <td>3340.000000</td>\n",
       "      <td>3340.000000</td>\n",
       "      <td>3340.000000</td>\n",
       "      <td>...</td>\n",
       "      <td>3340.000000</td>\n",
       "      <td>3340.000000</td>\n",
       "      <td>3340.000000</td>\n",
       "      <td>3340.000000</td>\n",
       "      <td>3340.000000</td>\n",
       "      <td>3340.000000</td>\n",
       "      <td>3340.000000</td>\n",
       "      <td>3340.000000</td>\n",
       "      <td>3340.000000</td>\n",
       "      <td>3340.000000</td>\n",
       "    </tr>\n",
       "    <tr>\n",
       "      <th>mean</th>\n",
       "      <td>8.342958e+07</td>\n",
       "      <td>834.491617</td>\n",
       "      <td>33061.684685</td>\n",
       "      <td>36.707212</td>\n",
       "      <td>-88.601474</td>\n",
       "      <td>0.000299</td>\n",
       "      <td>0.000299</td>\n",
       "      <td>0.000599</td>\n",
       "      <td>0.000599</td>\n",
       "      <td>0.001497</td>\n",
       "      <td>...</td>\n",
       "      <td>1962.171257</td>\n",
       "      <td>1973.755090</td>\n",
       "      <td>1985.045210</td>\n",
       "      <td>1998.326647</td>\n",
       "      <td>2013.153593</td>\n",
       "      <td>2026.382934</td>\n",
       "      <td>2037.369461</td>\n",
       "      <td>2052.959281</td>\n",
       "      <td>2064.735928</td>\n",
       "      <td>2075.912575</td>\n",
       "    </tr>\n",
       "    <tr>\n",
       "      <th>std</th>\n",
       "      <td>4.315345e+06</td>\n",
       "      <td>36.498055</td>\n",
       "      <td>18638.940791</td>\n",
       "      <td>9.062922</td>\n",
       "      <td>21.718982</td>\n",
       "      <td>0.017303</td>\n",
       "      <td>0.017303</td>\n",
       "      <td>0.024467</td>\n",
       "      <td>0.024467</td>\n",
       "      <td>0.038668</td>\n",
       "      <td>...</td>\n",
       "      <td>8319.200452</td>\n",
       "      <td>8351.395482</td>\n",
       "      <td>8380.369559</td>\n",
       "      <td>8418.624752</td>\n",
       "      <td>8454.172733</td>\n",
       "      <td>8492.156622</td>\n",
       "      <td>8525.587151</td>\n",
       "      <td>8611.415788</td>\n",
       "      <td>8641.438968</td>\n",
       "      <td>8667.723099</td>\n",
       "    </tr>\n",
       "    <tr>\n",
       "      <th>min</th>\n",
       "      <td>1.600000e+01</td>\n",
       "      <td>16.000000</td>\n",
       "      <td>60.000000</td>\n",
       "      <td>-14.271000</td>\n",
       "      <td>-174.159600</td>\n",
       "      <td>0.000000</td>\n",
       "      <td>0.000000</td>\n",
       "      <td>0.000000</td>\n",
       "      <td>0.000000</td>\n",
       "      <td>0.000000</td>\n",
       "      <td>...</td>\n",
       "      <td>0.000000</td>\n",
       "      <td>0.000000</td>\n",
       "      <td>0.000000</td>\n",
       "      <td>0.000000</td>\n",
       "      <td>0.000000</td>\n",
       "      <td>0.000000</td>\n",
       "      <td>0.000000</td>\n",
       "      <td>0.000000</td>\n",
       "      <td>0.000000</td>\n",
       "      <td>0.000000</td>\n",
       "    </tr>\n",
       "    <tr>\n",
       "      <th>25%</th>\n",
       "      <td>8.401811e+07</td>\n",
       "      <td>840.000000</td>\n",
       "      <td>19079.500000</td>\n",
       "      <td>33.895587</td>\n",
       "      <td>-97.790204</td>\n",
       "      <td>0.000000</td>\n",
       "      <td>0.000000</td>\n",
       "      <td>0.000000</td>\n",
       "      <td>0.000000</td>\n",
       "      <td>0.000000</td>\n",
       "      <td>...</td>\n",
       "      <td>94.000000</td>\n",
       "      <td>94.750000</td>\n",
       "      <td>96.000000</td>\n",
       "      <td>98.000000</td>\n",
       "      <td>101.000000</td>\n",
       "      <td>103.000000</td>\n",
       "      <td>103.750000</td>\n",
       "      <td>105.000000</td>\n",
       "      <td>106.000000</td>\n",
       "      <td>109.000000</td>\n",
       "    </tr>\n",
       "    <tr>\n",
       "      <th>50%</th>\n",
       "      <td>8.402921e+07</td>\n",
       "      <td>840.000000</td>\n",
       "      <td>31014.000000</td>\n",
       "      <td>38.002344</td>\n",
       "      <td>-89.486710</td>\n",
       "      <td>0.000000</td>\n",
       "      <td>0.000000</td>\n",
       "      <td>0.000000</td>\n",
       "      <td>0.000000</td>\n",
       "      <td>0.000000</td>\n",
       "      <td>...</td>\n",
       "      <td>323.500000</td>\n",
       "      <td>324.500000</td>\n",
       "      <td>329.000000</td>\n",
       "      <td>332.500000</td>\n",
       "      <td>338.500000</td>\n",
       "      <td>345.000000</td>\n",
       "      <td>349.000000</td>\n",
       "      <td>352.000000</td>\n",
       "      <td>354.500000</td>\n",
       "      <td>362.000000</td>\n",
       "    </tr>\n",
       "    <tr>\n",
       "      <th>75%</th>\n",
       "      <td>8.404612e+07</td>\n",
       "      <td>840.000000</td>\n",
       "      <td>47130.500000</td>\n",
       "      <td>41.573069</td>\n",
       "      <td>-82.311265</td>\n",
       "      <td>0.000000</td>\n",
       "      <td>0.000000</td>\n",
       "      <td>0.000000</td>\n",
       "      <td>0.000000</td>\n",
       "      <td>0.000000</td>\n",
       "      <td>...</td>\n",
       "      <td>1052.000000</td>\n",
       "      <td>1055.500000</td>\n",
       "      <td>1070.250000</td>\n",
       "      <td>1082.000000</td>\n",
       "      <td>1094.000000</td>\n",
       "      <td>1112.250000</td>\n",
       "      <td>1124.000000</td>\n",
       "      <td>1132.250000</td>\n",
       "      <td>1139.250000</td>\n",
       "      <td>1153.000000</td>\n",
       "    </tr>\n",
       "    <tr>\n",
       "      <th>max</th>\n",
       "      <td>8.410000e+07</td>\n",
       "      <td>850.000000</td>\n",
       "      <td>99999.000000</td>\n",
       "      <td>69.314792</td>\n",
       "      <td>145.673900</td>\n",
       "      <td>1.000000</td>\n",
       "      <td>1.000000</td>\n",
       "      <td>1.000000</td>\n",
       "      <td>1.000000</td>\n",
       "      <td>1.000000</td>\n",
       "      <td>...</td>\n",
       "      <td>254656.000000</td>\n",
       "      <td>255049.000000</td>\n",
       "      <td>256148.000000</td>\n",
       "      <td>257271.000000</td>\n",
       "      <td>258516.000000</td>\n",
       "      <td>259817.000000</td>\n",
       "      <td>260797.000000</td>\n",
       "      <td>261446.000000</td>\n",
       "      <td>262133.000000</td>\n",
       "      <td>263333.000000</td>\n",
       "    </tr>\n",
       "  </tbody>\n",
       "</table>\n",
       "<p>8 rows × 251 columns</p>\n",
       "</div>"
      ],
      "text/plain": [
       "                UID        code3          FIPS          Lat        Long_  \\\n",
       "count  3.340000e+03  3340.000000   3330.000000  3340.000000  3340.000000   \n",
       "mean   8.342958e+07   834.491617  33061.684685    36.707212   -88.601474   \n",
       "std    4.315345e+06    36.498055  18638.940791     9.062922    21.718982   \n",
       "min    1.600000e+01    16.000000     60.000000   -14.271000  -174.159600   \n",
       "25%    8.401811e+07   840.000000  19079.500000    33.895587   -97.790204   \n",
       "50%    8.402921e+07   840.000000  31014.000000    38.002344   -89.486710   \n",
       "75%    8.404612e+07   840.000000  47130.500000    41.573069   -82.311265   \n",
       "max    8.410000e+07   850.000000  99999.000000    69.314792   145.673900   \n",
       "\n",
       "           1/22/20      1/23/20      1/24/20      1/25/20      1/26/20  ...  \\\n",
       "count  3340.000000  3340.000000  3340.000000  3340.000000  3340.000000  ...   \n",
       "mean      0.000299     0.000299     0.000599     0.000599     0.001497  ...   \n",
       "std       0.017303     0.017303     0.024467     0.024467     0.038668  ...   \n",
       "min       0.000000     0.000000     0.000000     0.000000     0.000000  ...   \n",
       "25%       0.000000     0.000000     0.000000     0.000000     0.000000  ...   \n",
       "50%       0.000000     0.000000     0.000000     0.000000     0.000000  ...   \n",
       "75%       0.000000     0.000000     0.000000     0.000000     0.000000  ...   \n",
       "max       1.000000     1.000000     1.000000     1.000000     1.000000  ...   \n",
       "\n",
       "             9/14/20        9/15/20        9/16/20        9/17/20  \\\n",
       "count    3340.000000    3340.000000    3340.000000    3340.000000   \n",
       "mean     1962.171257    1973.755090    1985.045210    1998.326647   \n",
       "std      8319.200452    8351.395482    8380.369559    8418.624752   \n",
       "min         0.000000       0.000000       0.000000       0.000000   \n",
       "25%        94.000000      94.750000      96.000000      98.000000   \n",
       "50%       323.500000     324.500000     329.000000     332.500000   \n",
       "75%      1052.000000    1055.500000    1070.250000    1082.000000   \n",
       "max    254656.000000  255049.000000  256148.000000  257271.000000   \n",
       "\n",
       "             9/18/20        9/19/20        9/20/20        9/21/20  \\\n",
       "count    3340.000000    3340.000000    3340.000000    3340.000000   \n",
       "mean     2013.153593    2026.382934    2037.369461    2052.959281   \n",
       "std      8454.172733    8492.156622    8525.587151    8611.415788   \n",
       "min         0.000000       0.000000       0.000000       0.000000   \n",
       "25%       101.000000     103.000000     103.750000     105.000000   \n",
       "50%       338.500000     345.000000     349.000000     352.000000   \n",
       "75%      1094.000000    1112.250000    1124.000000    1132.250000   \n",
       "max    258516.000000  259817.000000  260797.000000  261446.000000   \n",
       "\n",
       "             9/22/20        9/23/20  \n",
       "count    3340.000000    3340.000000  \n",
       "mean     2064.735928    2075.912575  \n",
       "std      8641.438968    8667.723099  \n",
       "min         0.000000       0.000000  \n",
       "25%       106.000000     109.000000  \n",
       "50%       354.500000     362.000000  \n",
       "75%      1139.250000    1153.000000  \n",
       "max    262133.000000  263333.000000  \n",
       "\n",
       "[8 rows x 251 columns]"
      ]
     },
     "execution_count": 61,
     "metadata": {},
     "output_type": "execute_result"
    }
   ],
   "source": [
    "TS_US_Confirmed.describe()"
   ]
  },
  {
   "cell_type": "code",
   "execution_count": 62,
   "metadata": {},
   "outputs": [],
   "source": [
    "# replacing missing value \n",
    "TS_US_Confirmed['FIPS'].fillna(33061.684685, inplace=True)"
   ]
  },
  {
   "cell_type": "code",
   "execution_count": null,
   "metadata": {},
   "outputs": [],
   "source": [
    "# finding duplicated values\n",
    "df[df.duplicated()]"
   ]
  },
  {
   "cell_type": "code",
   "execution_count": null,
   "metadata": {},
   "outputs": [],
   "source": []
  },
  {
   "cell_type": "code",
   "execution_count": null,
   "metadata": {},
   "outputs": [],
   "source": []
  },
  {
   "cell_type": "markdown",
   "metadata": {},
   "source": []
  },
  {
   "cell_type": "markdown",
   "metadata": {},
   "source": [
    "### Data 7"
   ]
  },
  {
   "cell_type": "code",
   "execution_count": 10,
   "metadata": {},
   "outputs": [],
   "source": [
    "# importing Covid data of Time series by confirmed cases\n",
    "TS_Confirmed = pd.read_csv(os.path.join(path, '02 Data', 'OriginalData','covid_19', 'TS_C19_confirmed.csv'), index_col = False)"
   ]
  },
  {
   "cell_type": "code",
   "execution_count": 20,
   "metadata": {},
   "outputs": [
    {
     "data": {
      "text/plain": [
       "(266, 250)"
      ]
     },
     "execution_count": 20,
     "metadata": {},
     "output_type": "execute_result"
    }
   ],
   "source": [
    "TS_Confirmed.shape"
   ]
  },
  {
   "cell_type": "code",
   "execution_count": 30,
   "metadata": {},
   "outputs": [
    {
     "data": {
      "text/plain": [
       "Province/State    185\n",
       "Country/Region      0\n",
       "Lat                 0\n",
       "Long                0\n",
       "1/22/20             0\n",
       "                 ... \n",
       "9/19/20             0\n",
       "9/20/20             0\n",
       "9/21/20             0\n",
       "9/22/20             0\n",
       "9/23/20             0\n",
       "Length: 250, dtype: int64"
      ]
     },
     "execution_count": 30,
     "metadata": {},
     "output_type": "execute_result"
    }
   ],
   "source": [
    "# looking for missing value\n",
    "TS_Confirmed.isnull().sum()"
   ]
  },
  {
   "cell_type": "code",
   "execution_count": 63,
   "metadata": {},
   "outputs": [
    {
     "data": {
      "text/html": [
       "<div>\n",
       "<style scoped>\n",
       "    .dataframe tbody tr th:only-of-type {\n",
       "        vertical-align: middle;\n",
       "    }\n",
       "\n",
       "    .dataframe tbody tr th {\n",
       "        vertical-align: top;\n",
       "    }\n",
       "\n",
       "    .dataframe thead th {\n",
       "        text-align: right;\n",
       "    }\n",
       "</style>\n",
       "<table border=\"1\" class=\"dataframe\">\n",
       "  <thead>\n",
       "    <tr style=\"text-align: right;\">\n",
       "      <th></th>\n",
       "      <th>Lat</th>\n",
       "      <th>Long</th>\n",
       "      <th>1/22/20</th>\n",
       "      <th>1/23/20</th>\n",
       "      <th>1/24/20</th>\n",
       "      <th>1/25/20</th>\n",
       "      <th>1/26/20</th>\n",
       "      <th>1/27/20</th>\n",
       "      <th>1/28/20</th>\n",
       "      <th>1/29/20</th>\n",
       "      <th>...</th>\n",
       "      <th>9/14/20</th>\n",
       "      <th>9/15/20</th>\n",
       "      <th>9/16/20</th>\n",
       "      <th>9/17/20</th>\n",
       "      <th>9/18/20</th>\n",
       "      <th>9/19/20</th>\n",
       "      <th>9/20/20</th>\n",
       "      <th>9/21/20</th>\n",
       "      <th>9/22/20</th>\n",
       "      <th>9/23/20</th>\n",
       "    </tr>\n",
       "  </thead>\n",
       "  <tbody>\n",
       "    <tr>\n",
       "      <th>count</th>\n",
       "      <td>266.000000</td>\n",
       "      <td>266.000000</td>\n",
       "      <td>266.000000</td>\n",
       "      <td>266.000000</td>\n",
       "      <td>266.000000</td>\n",
       "      <td>266.000000</td>\n",
       "      <td>266.000000</td>\n",
       "      <td>266.000000</td>\n",
       "      <td>266.000000</td>\n",
       "      <td>266.000000</td>\n",
       "      <td>...</td>\n",
       "      <td>2.660000e+02</td>\n",
       "      <td>2.660000e+02</td>\n",
       "      <td>2.660000e+02</td>\n",
       "      <td>2.660000e+02</td>\n",
       "      <td>2.660000e+02</td>\n",
       "      <td>2.660000e+02</td>\n",
       "      <td>2.660000e+02</td>\n",
       "      <td>2.660000e+02</td>\n",
       "      <td>2.660000e+02</td>\n",
       "      <td>2.660000e+02</td>\n",
       "    </tr>\n",
       "    <tr>\n",
       "      <th>mean</th>\n",
       "      <td>21.076624</td>\n",
       "      <td>22.829441</td>\n",
       "      <td>2.086466</td>\n",
       "      <td>2.458647</td>\n",
       "      <td>3.537594</td>\n",
       "      <td>5.390977</td>\n",
       "      <td>7.962406</td>\n",
       "      <td>11.003759</td>\n",
       "      <td>20.969925</td>\n",
       "      <td>23.184211</td>\n",
       "      <td>...</td>\n",
       "      <td>1.100551e+05</td>\n",
       "      <td>1.111201e+05</td>\n",
       "      <td>1.122630e+05</td>\n",
       "      <td>1.134410e+05</td>\n",
       "      <td>1.146599e+05</td>\n",
       "      <td>1.157171e+05</td>\n",
       "      <td>1.166240e+05</td>\n",
       "      <td>1.177477e+05</td>\n",
       "      <td>1.184853e+05</td>\n",
       "      <td>1.194731e+05</td>\n",
       "    </tr>\n",
       "    <tr>\n",
       "      <th>std</th>\n",
       "      <td>24.904600</td>\n",
       "      <td>70.191330</td>\n",
       "      <td>27.279200</td>\n",
       "      <td>27.377862</td>\n",
       "      <td>34.083035</td>\n",
       "      <td>47.434934</td>\n",
       "      <td>66.289178</td>\n",
       "      <td>89.313757</td>\n",
       "      <td>219.187744</td>\n",
       "      <td>220.524674</td>\n",
       "      <td>...</td>\n",
       "      <td>5.774877e+05</td>\n",
       "      <td>5.831820e+05</td>\n",
       "      <td>5.891235e+05</td>\n",
       "      <td>5.953081e+05</td>\n",
       "      <td>6.017349e+05</td>\n",
       "      <td>6.076737e+05</td>\n",
       "      <td>6.126599e+05</td>\n",
       "      <td>6.179729e+05</td>\n",
       "      <td>6.207083e+05</td>\n",
       "      <td>6.252483e+05</td>\n",
       "    </tr>\n",
       "    <tr>\n",
       "      <th>min</th>\n",
       "      <td>-51.796300</td>\n",
       "      <td>-135.000000</td>\n",
       "      <td>0.000000</td>\n",
       "      <td>0.000000</td>\n",
       "      <td>0.000000</td>\n",
       "      <td>0.000000</td>\n",
       "      <td>0.000000</td>\n",
       "      <td>0.000000</td>\n",
       "      <td>0.000000</td>\n",
       "      <td>0.000000</td>\n",
       "      <td>...</td>\n",
       "      <td>0.000000e+00</td>\n",
       "      <td>0.000000e+00</td>\n",
       "      <td>0.000000e+00</td>\n",
       "      <td>0.000000e+00</td>\n",
       "      <td>0.000000e+00</td>\n",
       "      <td>0.000000e+00</td>\n",
       "      <td>0.000000e+00</td>\n",
       "      <td>0.000000e+00</td>\n",
       "      <td>0.000000e+00</td>\n",
       "      <td>0.000000e+00</td>\n",
       "    </tr>\n",
       "    <tr>\n",
       "      <th>25%</th>\n",
       "      <td>6.677575</td>\n",
       "      <td>-15.277675</td>\n",
       "      <td>0.000000</td>\n",
       "      <td>0.000000</td>\n",
       "      <td>0.000000</td>\n",
       "      <td>0.000000</td>\n",
       "      <td>0.000000</td>\n",
       "      <td>0.000000</td>\n",
       "      <td>0.000000</td>\n",
       "      <td>0.000000</td>\n",
       "      <td>...</td>\n",
       "      <td>4.675000e+02</td>\n",
       "      <td>4.682500e+02</td>\n",
       "      <td>4.682500e+02</td>\n",
       "      <td>4.707500e+02</td>\n",
       "      <td>4.707500e+02</td>\n",
       "      <td>4.707500e+02</td>\n",
       "      <td>4.707500e+02</td>\n",
       "      <td>4.710000e+02</td>\n",
       "      <td>4.710000e+02</td>\n",
       "      <td>4.715000e+02</td>\n",
       "    </tr>\n",
       "    <tr>\n",
       "      <th>50%</th>\n",
       "      <td>22.820850</td>\n",
       "      <td>20.921188</td>\n",
       "      <td>0.000000</td>\n",
       "      <td>0.000000</td>\n",
       "      <td>0.000000</td>\n",
       "      <td>0.000000</td>\n",
       "      <td>0.000000</td>\n",
       "      <td>0.000000</td>\n",
       "      <td>0.000000</td>\n",
       "      <td>0.000000</td>\n",
       "      <td>...</td>\n",
       "      <td>3.397000e+03</td>\n",
       "      <td>3.459000e+03</td>\n",
       "      <td>3.466000e+03</td>\n",
       "      <td>3.522500e+03</td>\n",
       "      <td>3.608000e+03</td>\n",
       "      <td>3.714500e+03</td>\n",
       "      <td>3.772000e+03</td>\n",
       "      <td>3.823500e+03</td>\n",
       "      <td>3.895000e+03</td>\n",
       "      <td>4.138000e+03</td>\n",
       "    </tr>\n",
       "    <tr>\n",
       "      <th>75%</th>\n",
       "      <td>41.143200</td>\n",
       "      <td>77.913685</td>\n",
       "      <td>0.000000</td>\n",
       "      <td>0.000000</td>\n",
       "      <td>0.000000</td>\n",
       "      <td>0.000000</td>\n",
       "      <td>0.000000</td>\n",
       "      <td>0.000000</td>\n",
       "      <td>0.000000</td>\n",
       "      <td>0.000000</td>\n",
       "      <td>...</td>\n",
       "      <td>3.553900e+04</td>\n",
       "      <td>3.580200e+04</td>\n",
       "      <td>3.599400e+04</td>\n",
       "      <td>3.639525e+04</td>\n",
       "      <td>3.670825e+04</td>\n",
       "      <td>3.731275e+04</td>\n",
       "      <td>3.781650e+04</td>\n",
       "      <td>3.826325e+04</td>\n",
       "      <td>3.862650e+04</td>\n",
       "      <td>3.869575e+04</td>\n",
       "    </tr>\n",
       "    <tr>\n",
       "      <th>max</th>\n",
       "      <td>71.706900</td>\n",
       "      <td>178.065000</td>\n",
       "      <td>444.000000</td>\n",
       "      <td>444.000000</td>\n",
       "      <td>549.000000</td>\n",
       "      <td>761.000000</td>\n",
       "      <td>1058.000000</td>\n",
       "      <td>1423.000000</td>\n",
       "      <td>3554.000000</td>\n",
       "      <td>3554.000000</td>\n",
       "      <td>...</td>\n",
       "      <td>6.553652e+06</td>\n",
       "      <td>6.592342e+06</td>\n",
       "      <td>6.630051e+06</td>\n",
       "      <td>6.674411e+06</td>\n",
       "      <td>6.723933e+06</td>\n",
       "      <td>6.768119e+06</td>\n",
       "      <td>6.804814e+06</td>\n",
       "      <td>6.856884e+06</td>\n",
       "      <td>6.896218e+06</td>\n",
       "      <td>6.933548e+06</td>\n",
       "    </tr>\n",
       "  </tbody>\n",
       "</table>\n",
       "<p>8 rows × 248 columns</p>\n",
       "</div>"
      ],
      "text/plain": [
       "              Lat        Long     1/22/20     1/23/20     1/24/20     1/25/20  \\\n",
       "count  266.000000  266.000000  266.000000  266.000000  266.000000  266.000000   \n",
       "mean    21.076624   22.829441    2.086466    2.458647    3.537594    5.390977   \n",
       "std     24.904600   70.191330   27.279200   27.377862   34.083035   47.434934   \n",
       "min    -51.796300 -135.000000    0.000000    0.000000    0.000000    0.000000   \n",
       "25%      6.677575  -15.277675    0.000000    0.000000    0.000000    0.000000   \n",
       "50%     22.820850   20.921188    0.000000    0.000000    0.000000    0.000000   \n",
       "75%     41.143200   77.913685    0.000000    0.000000    0.000000    0.000000   \n",
       "max     71.706900  178.065000  444.000000  444.000000  549.000000  761.000000   \n",
       "\n",
       "           1/26/20      1/27/20      1/28/20      1/29/20  ...       9/14/20  \\\n",
       "count   266.000000   266.000000   266.000000   266.000000  ...  2.660000e+02   \n",
       "mean      7.962406    11.003759    20.969925    23.184211  ...  1.100551e+05   \n",
       "std      66.289178    89.313757   219.187744   220.524674  ...  5.774877e+05   \n",
       "min       0.000000     0.000000     0.000000     0.000000  ...  0.000000e+00   \n",
       "25%       0.000000     0.000000     0.000000     0.000000  ...  4.675000e+02   \n",
       "50%       0.000000     0.000000     0.000000     0.000000  ...  3.397000e+03   \n",
       "75%       0.000000     0.000000     0.000000     0.000000  ...  3.553900e+04   \n",
       "max    1058.000000  1423.000000  3554.000000  3554.000000  ...  6.553652e+06   \n",
       "\n",
       "            9/15/20       9/16/20       9/17/20       9/18/20       9/19/20  \\\n",
       "count  2.660000e+02  2.660000e+02  2.660000e+02  2.660000e+02  2.660000e+02   \n",
       "mean   1.111201e+05  1.122630e+05  1.134410e+05  1.146599e+05  1.157171e+05   \n",
       "std    5.831820e+05  5.891235e+05  5.953081e+05  6.017349e+05  6.076737e+05   \n",
       "min    0.000000e+00  0.000000e+00  0.000000e+00  0.000000e+00  0.000000e+00   \n",
       "25%    4.682500e+02  4.682500e+02  4.707500e+02  4.707500e+02  4.707500e+02   \n",
       "50%    3.459000e+03  3.466000e+03  3.522500e+03  3.608000e+03  3.714500e+03   \n",
       "75%    3.580200e+04  3.599400e+04  3.639525e+04  3.670825e+04  3.731275e+04   \n",
       "max    6.592342e+06  6.630051e+06  6.674411e+06  6.723933e+06  6.768119e+06   \n",
       "\n",
       "            9/20/20       9/21/20       9/22/20       9/23/20  \n",
       "count  2.660000e+02  2.660000e+02  2.660000e+02  2.660000e+02  \n",
       "mean   1.166240e+05  1.177477e+05  1.184853e+05  1.194731e+05  \n",
       "std    6.126599e+05  6.179729e+05  6.207083e+05  6.252483e+05  \n",
       "min    0.000000e+00  0.000000e+00  0.000000e+00  0.000000e+00  \n",
       "25%    4.707500e+02  4.710000e+02  4.710000e+02  4.715000e+02  \n",
       "50%    3.772000e+03  3.823500e+03  3.895000e+03  4.138000e+03  \n",
       "75%    3.781650e+04  3.826325e+04  3.862650e+04  3.869575e+04  \n",
       "max    6.804814e+06  6.856884e+06  6.896218e+06  6.933548e+06  \n",
       "\n",
       "[8 rows x 248 columns]"
      ]
     },
     "execution_count": 63,
     "metadata": {},
     "output_type": "execute_result"
    }
   ],
   "source": [
    "TS_Confirmed.describe()"
   ]
  },
  {
   "cell_type": "code",
   "execution_count": null,
   "metadata": {},
   "outputs": [],
   "source": [
    "# no action was taken for the missing value in Province and state column"
   ]
  },
  {
   "cell_type": "code",
   "execution_count": 67,
   "metadata": {},
   "outputs": [
    {
     "data": {
      "text/html": [
       "<div>\n",
       "<style scoped>\n",
       "    .dataframe tbody tr th:only-of-type {\n",
       "        vertical-align: middle;\n",
       "    }\n",
       "\n",
       "    .dataframe tbody tr th {\n",
       "        vertical-align: top;\n",
       "    }\n",
       "\n",
       "    .dataframe thead th {\n",
       "        text-align: right;\n",
       "    }\n",
       "</style>\n",
       "<table border=\"1\" class=\"dataframe\">\n",
       "  <thead>\n",
       "    <tr style=\"text-align: right;\">\n",
       "      <th></th>\n",
       "      <th>Province/State</th>\n",
       "      <th>Country/Region</th>\n",
       "      <th>Lat</th>\n",
       "      <th>Long</th>\n",
       "      <th>1/22/20</th>\n",
       "      <th>1/23/20</th>\n",
       "      <th>1/24/20</th>\n",
       "      <th>1/25/20</th>\n",
       "      <th>1/26/20</th>\n",
       "      <th>1/27/20</th>\n",
       "      <th>...</th>\n",
       "      <th>9/14/20</th>\n",
       "      <th>9/15/20</th>\n",
       "      <th>9/16/20</th>\n",
       "      <th>9/17/20</th>\n",
       "      <th>9/18/20</th>\n",
       "      <th>9/19/20</th>\n",
       "      <th>9/20/20</th>\n",
       "      <th>9/21/20</th>\n",
       "      <th>9/22/20</th>\n",
       "      <th>9/23/20</th>\n",
       "    </tr>\n",
       "  </thead>\n",
       "  <tbody>\n",
       "  </tbody>\n",
       "</table>\n",
       "<p>0 rows × 250 columns</p>\n",
       "</div>"
      ],
      "text/plain": [
       "Empty DataFrame\n",
       "Columns: [Province/State, Country/Region, Lat, Long, 1/22/20, 1/23/20, 1/24/20, 1/25/20, 1/26/20, 1/27/20, 1/28/20, 1/29/20, 1/30/20, 1/31/20, 2/1/20, 2/2/20, 2/3/20, 2/4/20, 2/5/20, 2/6/20, 2/7/20, 2/8/20, 2/9/20, 2/10/20, 2/11/20, 2/12/20, 2/13/20, 2/14/20, 2/15/20, 2/16/20, 2/17/20, 2/18/20, 2/19/20, 2/20/20, 2/21/20, 2/22/20, 2/23/20, 2/24/20, 2/25/20, 2/26/20, 2/27/20, 2/28/20, 2/29/20, 3/1/20, 3/2/20, 3/3/20, 3/4/20, 3/5/20, 3/6/20, 3/7/20, 3/8/20, 3/9/20, 3/10/20, 3/11/20, 3/12/20, 3/13/20, 3/14/20, 3/15/20, 3/16/20, 3/17/20, 3/18/20, 3/19/20, 3/20/20, 3/21/20, 3/22/20, 3/23/20, 3/24/20, 3/25/20, 3/26/20, 3/27/20, 3/28/20, 3/29/20, 3/30/20, 3/31/20, 4/1/20, 4/2/20, 4/3/20, 4/4/20, 4/5/20, 4/6/20, 4/7/20, 4/8/20, 4/9/20, 4/10/20, 4/11/20, 4/12/20, 4/13/20, 4/14/20, 4/15/20, 4/16/20, 4/17/20, 4/18/20, 4/19/20, 4/20/20, 4/21/20, 4/22/20, 4/23/20, 4/24/20, 4/25/20, 4/26/20, ...]\n",
       "Index: []\n",
       "\n",
       "[0 rows x 250 columns]"
      ]
     },
     "execution_count": 67,
     "metadata": {},
     "output_type": "execute_result"
    }
   ],
   "source": [
    "# finding duplicated values\n",
    "TS_Confirmed[TS_Confirmed.duplicated()]"
   ]
  },
  {
   "cell_type": "code",
   "execution_count": null,
   "metadata": {},
   "outputs": [],
   "source": []
  },
  {
   "cell_type": "code",
   "execution_count": null,
   "metadata": {},
   "outputs": [],
   "source": []
  },
  {
   "cell_type": "code",
   "execution_count": null,
   "metadata": {},
   "outputs": [],
   "source": []
  },
  {
   "cell_type": "markdown",
   "metadata": {},
   "source": []
  },
  {
   "cell_type": "markdown",
   "metadata": {},
   "source": [
    "### Data 8"
   ]
  },
  {
   "cell_type": "code",
   "execution_count": 11,
   "metadata": {},
   "outputs": [],
   "source": [
    "# importing Covid data of Times series by US deaths\n",
    "TS_US_deaths = pd.read_csv(os.path.join(path, '02 Data', 'OriginalData','covid_19', 'TS_C19_deaths_US.csv'), index_col = False)"
   ]
  },
  {
   "cell_type": "code",
   "execution_count": 21,
   "metadata": {},
   "outputs": [
    {
     "data": {
      "text/plain": [
       "(3340, 258)"
      ]
     },
     "execution_count": 21,
     "metadata": {},
     "output_type": "execute_result"
    }
   ],
   "source": [
    "TS_US_deaths.shape"
   ]
  },
  {
   "cell_type": "code",
   "execution_count": 31,
   "metadata": {},
   "outputs": [
    {
     "data": {
      "text/plain": [
       "UID         0\n",
       "iso2        0\n",
       "iso3        0\n",
       "code3       0\n",
       "FIPS       10\n",
       "           ..\n",
       "9/19/20     0\n",
       "9/20/20     0\n",
       "9/21/20     0\n",
       "9/22/20     0\n",
       "9/23/20     0\n",
       "Length: 258, dtype: int64"
      ]
     },
     "execution_count": 31,
     "metadata": {},
     "output_type": "execute_result"
    }
   ],
   "source": [
    "# looking for missing value\n",
    "TS_US_deaths.isnull().sum()"
   ]
  },
  {
   "cell_type": "code",
   "execution_count": 64,
   "metadata": {},
   "outputs": [
    {
     "data": {
      "text/html": [
       "<div>\n",
       "<style scoped>\n",
       "    .dataframe tbody tr th:only-of-type {\n",
       "        vertical-align: middle;\n",
       "    }\n",
       "\n",
       "    .dataframe tbody tr th {\n",
       "        vertical-align: top;\n",
       "    }\n",
       "\n",
       "    .dataframe thead th {\n",
       "        text-align: right;\n",
       "    }\n",
       "</style>\n",
       "<table border=\"1\" class=\"dataframe\">\n",
       "  <thead>\n",
       "    <tr style=\"text-align: right;\">\n",
       "      <th></th>\n",
       "      <th>UID</th>\n",
       "      <th>code3</th>\n",
       "      <th>FIPS</th>\n",
       "      <th>Lat</th>\n",
       "      <th>Long_</th>\n",
       "      <th>Population</th>\n",
       "      <th>1/22/20</th>\n",
       "      <th>1/23/20</th>\n",
       "      <th>1/24/20</th>\n",
       "      <th>1/25/20</th>\n",
       "      <th>...</th>\n",
       "      <th>9/14/20</th>\n",
       "      <th>9/15/20</th>\n",
       "      <th>9/16/20</th>\n",
       "      <th>9/17/20</th>\n",
       "      <th>9/18/20</th>\n",
       "      <th>9/19/20</th>\n",
       "      <th>9/20/20</th>\n",
       "      <th>9/21/20</th>\n",
       "      <th>9/22/20</th>\n",
       "      <th>9/23/20</th>\n",
       "    </tr>\n",
       "  </thead>\n",
       "  <tbody>\n",
       "    <tr>\n",
       "      <th>count</th>\n",
       "      <td>3.340000e+03</td>\n",
       "      <td>3340.000000</td>\n",
       "      <td>3330.000000</td>\n",
       "      <td>3340.000000</td>\n",
       "      <td>3340.000000</td>\n",
       "      <td>3.340000e+03</td>\n",
       "      <td>3340.0</td>\n",
       "      <td>3340.0</td>\n",
       "      <td>3340.0</td>\n",
       "      <td>3340.0</td>\n",
       "      <td>...</td>\n",
       "      <td>3340.000000</td>\n",
       "      <td>3340.000000</td>\n",
       "      <td>3340.000000</td>\n",
       "      <td>3340.000000</td>\n",
       "      <td>3340.000000</td>\n",
       "      <td>3340.000000</td>\n",
       "      <td>3340.000000</td>\n",
       "      <td>3340.000000</td>\n",
       "      <td>3340.000000</td>\n",
       "      <td>3340.000000</td>\n",
       "    </tr>\n",
       "    <tr>\n",
       "      <th>mean</th>\n",
       "      <td>8.342958e+07</td>\n",
       "      <td>834.491617</td>\n",
       "      <td>33061.684685</td>\n",
       "      <td>36.707212</td>\n",
       "      <td>-88.601474</td>\n",
       "      <td>9.966039e+04</td>\n",
       "      <td>0.0</td>\n",
       "      <td>0.0</td>\n",
       "      <td>0.0</td>\n",
       "      <td>0.0</td>\n",
       "      <td>...</td>\n",
       "      <td>58.231437</td>\n",
       "      <td>58.617066</td>\n",
       "      <td>58.911078</td>\n",
       "      <td>59.171557</td>\n",
       "      <td>59.452096</td>\n",
       "      <td>59.665269</td>\n",
       "      <td>59.733234</td>\n",
       "      <td>59.839820</td>\n",
       "      <td>60.115569</td>\n",
       "      <td>60.444311</td>\n",
       "    </tr>\n",
       "    <tr>\n",
       "      <th>std</th>\n",
       "      <td>4.315345e+06</td>\n",
       "      <td>36.498055</td>\n",
       "      <td>18638.940791</td>\n",
       "      <td>9.062922</td>\n",
       "      <td>21.718982</td>\n",
       "      <td>3.242549e+05</td>\n",
       "      <td>0.0</td>\n",
       "      <td>0.0</td>\n",
       "      <td>0.0</td>\n",
       "      <td>0.0</td>\n",
       "      <td>...</td>\n",
       "      <td>309.680770</td>\n",
       "      <td>310.413623</td>\n",
       "      <td>311.105264</td>\n",
       "      <td>311.619894</td>\n",
       "      <td>312.225599</td>\n",
       "      <td>312.610693</td>\n",
       "      <td>312.860382</td>\n",
       "      <td>313.095656</td>\n",
       "      <td>313.712918</td>\n",
       "      <td>314.416568</td>\n",
       "    </tr>\n",
       "    <tr>\n",
       "      <th>min</th>\n",
       "      <td>1.600000e+01</td>\n",
       "      <td>16.000000</td>\n",
       "      <td>60.000000</td>\n",
       "      <td>-14.271000</td>\n",
       "      <td>-174.159600</td>\n",
       "      <td>0.000000e+00</td>\n",
       "      <td>0.0</td>\n",
       "      <td>0.0</td>\n",
       "      <td>0.0</td>\n",
       "      <td>0.0</td>\n",
       "      <td>...</td>\n",
       "      <td>0.000000</td>\n",
       "      <td>0.000000</td>\n",
       "      <td>0.000000</td>\n",
       "      <td>0.000000</td>\n",
       "      <td>0.000000</td>\n",
       "      <td>0.000000</td>\n",
       "      <td>0.000000</td>\n",
       "      <td>0.000000</td>\n",
       "      <td>0.000000</td>\n",
       "      <td>0.000000</td>\n",
       "    </tr>\n",
       "    <tr>\n",
       "      <th>25%</th>\n",
       "      <td>8.401811e+07</td>\n",
       "      <td>840.000000</td>\n",
       "      <td>19079.500000</td>\n",
       "      <td>33.895587</td>\n",
       "      <td>-97.790204</td>\n",
       "      <td>9.928500e+03</td>\n",
       "      <td>0.0</td>\n",
       "      <td>0.0</td>\n",
       "      <td>0.0</td>\n",
       "      <td>0.0</td>\n",
       "      <td>...</td>\n",
       "      <td>1.000000</td>\n",
       "      <td>1.000000</td>\n",
       "      <td>1.000000</td>\n",
       "      <td>1.000000</td>\n",
       "      <td>1.000000</td>\n",
       "      <td>1.000000</td>\n",
       "      <td>1.000000</td>\n",
       "      <td>1.000000</td>\n",
       "      <td>1.000000</td>\n",
       "      <td>1.000000</td>\n",
       "    </tr>\n",
       "    <tr>\n",
       "      <th>50%</th>\n",
       "      <td>8.402921e+07</td>\n",
       "      <td>840.000000</td>\n",
       "      <td>31014.000000</td>\n",
       "      <td>38.002344</td>\n",
       "      <td>-89.486710</td>\n",
       "      <td>2.491100e+04</td>\n",
       "      <td>0.0</td>\n",
       "      <td>0.0</td>\n",
       "      <td>0.0</td>\n",
       "      <td>0.0</td>\n",
       "      <td>...</td>\n",
       "      <td>5.000000</td>\n",
       "      <td>5.000000</td>\n",
       "      <td>5.000000</td>\n",
       "      <td>5.000000</td>\n",
       "      <td>5.000000</td>\n",
       "      <td>5.000000</td>\n",
       "      <td>5.000000</td>\n",
       "      <td>6.000000</td>\n",
       "      <td>6.000000</td>\n",
       "      <td>6.000000</td>\n",
       "    </tr>\n",
       "    <tr>\n",
       "      <th>75%</th>\n",
       "      <td>8.404612e+07</td>\n",
       "      <td>840.000000</td>\n",
       "      <td>47130.500000</td>\n",
       "      <td>41.573069</td>\n",
       "      <td>-82.311265</td>\n",
       "      <td>6.499800e+04</td>\n",
       "      <td>0.0</td>\n",
       "      <td>0.0</td>\n",
       "      <td>0.0</td>\n",
       "      <td>0.0</td>\n",
       "      <td>...</td>\n",
       "      <td>23.000000</td>\n",
       "      <td>23.250000</td>\n",
       "      <td>24.000000</td>\n",
       "      <td>24.000000</td>\n",
       "      <td>24.000000</td>\n",
       "      <td>24.000000</td>\n",
       "      <td>24.000000</td>\n",
       "      <td>24.250000</td>\n",
       "      <td>25.000000</td>\n",
       "      <td>25.000000</td>\n",
       "    </tr>\n",
       "    <tr>\n",
       "      <th>max</th>\n",
       "      <td>8.410000e+07</td>\n",
       "      <td>850.000000</td>\n",
       "      <td>99999.000000</td>\n",
       "      <td>69.314792</td>\n",
       "      <td>145.673900</td>\n",
       "      <td>1.003911e+07</td>\n",
       "      <td>0.0</td>\n",
       "      <td>0.0</td>\n",
       "      <td>0.0</td>\n",
       "      <td>0.0</td>\n",
       "      <td>...</td>\n",
       "      <td>7306.000000</td>\n",
       "      <td>7309.000000</td>\n",
       "      <td>7311.000000</td>\n",
       "      <td>7312.000000</td>\n",
       "      <td>7314.000000</td>\n",
       "      <td>7315.000000</td>\n",
       "      <td>7318.000000</td>\n",
       "      <td>7318.000000</td>\n",
       "      <td>7319.000000</td>\n",
       "      <td>7319.000000</td>\n",
       "    </tr>\n",
       "  </tbody>\n",
       "</table>\n",
       "<p>8 rows × 252 columns</p>\n",
       "</div>"
      ],
      "text/plain": [
       "                UID        code3          FIPS          Lat        Long_  \\\n",
       "count  3.340000e+03  3340.000000   3330.000000  3340.000000  3340.000000   \n",
       "mean   8.342958e+07   834.491617  33061.684685    36.707212   -88.601474   \n",
       "std    4.315345e+06    36.498055  18638.940791     9.062922    21.718982   \n",
       "min    1.600000e+01    16.000000     60.000000   -14.271000  -174.159600   \n",
       "25%    8.401811e+07   840.000000  19079.500000    33.895587   -97.790204   \n",
       "50%    8.402921e+07   840.000000  31014.000000    38.002344   -89.486710   \n",
       "75%    8.404612e+07   840.000000  47130.500000    41.573069   -82.311265   \n",
       "max    8.410000e+07   850.000000  99999.000000    69.314792   145.673900   \n",
       "\n",
       "         Population  1/22/20  1/23/20  1/24/20  1/25/20  ...      9/14/20  \\\n",
       "count  3.340000e+03   3340.0   3340.0   3340.0   3340.0  ...  3340.000000   \n",
       "mean   9.966039e+04      0.0      0.0      0.0      0.0  ...    58.231437   \n",
       "std    3.242549e+05      0.0      0.0      0.0      0.0  ...   309.680770   \n",
       "min    0.000000e+00      0.0      0.0      0.0      0.0  ...     0.000000   \n",
       "25%    9.928500e+03      0.0      0.0      0.0      0.0  ...     1.000000   \n",
       "50%    2.491100e+04      0.0      0.0      0.0      0.0  ...     5.000000   \n",
       "75%    6.499800e+04      0.0      0.0      0.0      0.0  ...    23.000000   \n",
       "max    1.003911e+07      0.0      0.0      0.0      0.0  ...  7306.000000   \n",
       "\n",
       "           9/15/20      9/16/20      9/17/20      9/18/20      9/19/20  \\\n",
       "count  3340.000000  3340.000000  3340.000000  3340.000000  3340.000000   \n",
       "mean     58.617066    58.911078    59.171557    59.452096    59.665269   \n",
       "std     310.413623   311.105264   311.619894   312.225599   312.610693   \n",
       "min       0.000000     0.000000     0.000000     0.000000     0.000000   \n",
       "25%       1.000000     1.000000     1.000000     1.000000     1.000000   \n",
       "50%       5.000000     5.000000     5.000000     5.000000     5.000000   \n",
       "75%      23.250000    24.000000    24.000000    24.000000    24.000000   \n",
       "max    7309.000000  7311.000000  7312.000000  7314.000000  7315.000000   \n",
       "\n",
       "           9/20/20      9/21/20      9/22/20      9/23/20  \n",
       "count  3340.000000  3340.000000  3340.000000  3340.000000  \n",
       "mean     59.733234    59.839820    60.115569    60.444311  \n",
       "std     312.860382   313.095656   313.712918   314.416568  \n",
       "min       0.000000     0.000000     0.000000     0.000000  \n",
       "25%       1.000000     1.000000     1.000000     1.000000  \n",
       "50%       5.000000     6.000000     6.000000     6.000000  \n",
       "75%      24.000000    24.250000    25.000000    25.000000  \n",
       "max    7318.000000  7318.000000  7319.000000  7319.000000  \n",
       "\n",
       "[8 rows x 252 columns]"
      ]
     },
     "execution_count": 64,
     "metadata": {},
     "output_type": "execute_result"
    }
   ],
   "source": [
    "TS_US_deaths.describe()"
   ]
  },
  {
   "cell_type": "code",
   "execution_count": 65,
   "metadata": {},
   "outputs": [],
   "source": [
    "# replacing missing value \n",
    "TS_US_deaths['FIPS'].fillna(33061.684685, inplace=True)"
   ]
  },
  {
   "cell_type": "code",
   "execution_count": null,
   "metadata": {},
   "outputs": [],
   "source": [
    "# finding duplicated values\n",
    "df[df.duplicated()]"
   ]
  },
  {
   "cell_type": "code",
   "execution_count": null,
   "metadata": {},
   "outputs": [],
   "source": [
    "# finding duplicated values\n",
    "df[df.duplicated()]"
   ]
  },
  {
   "cell_type": "code",
   "execution_count": null,
   "metadata": {},
   "outputs": [],
   "source": []
  },
  {
   "cell_type": "code",
   "execution_count": null,
   "metadata": {},
   "outputs": [],
   "source": []
  },
  {
   "cell_type": "markdown",
   "metadata": {},
   "source": []
  },
  {
   "cell_type": "markdown",
   "metadata": {},
   "source": [
    "### Data 9"
   ]
  },
  {
   "cell_type": "code",
   "execution_count": 12,
   "metadata": {},
   "outputs": [],
   "source": [
    "# importing Covid data of Time series by deaths\n",
    "TS_deaths = pd.read_csv(os.path.join(path, '02 Data', 'OriginalData','covid_19', 'TS_C19_deaths.csv'), index_col = False)"
   ]
  },
  {
   "cell_type": "code",
   "execution_count": 22,
   "metadata": {},
   "outputs": [
    {
     "data": {
      "text/plain": [
       "(266, 250)"
      ]
     },
     "execution_count": 22,
     "metadata": {},
     "output_type": "execute_result"
    }
   ],
   "source": [
    "TS_deaths.shape"
   ]
  },
  {
   "cell_type": "code",
   "execution_count": 32,
   "metadata": {},
   "outputs": [
    {
     "data": {
      "text/plain": [
       "Province/State    185\n",
       "Country/Region      0\n",
       "Lat                 0\n",
       "Long                0\n",
       "1/22/20             0\n",
       "                 ... \n",
       "9/19/20             0\n",
       "9/20/20             0\n",
       "9/21/20             0\n",
       "9/22/20             0\n",
       "9/23/20             0\n",
       "Length: 250, dtype: int64"
      ]
     },
     "execution_count": 32,
     "metadata": {},
     "output_type": "execute_result"
    }
   ],
   "source": [
    "# looking for missing value\n",
    "TS_deaths.isnull().sum()"
   ]
  },
  {
   "cell_type": "code",
   "execution_count": null,
   "metadata": {},
   "outputs": [],
   "source": [
    "# no action was taken for the missing value in province and state column"
   ]
  },
  {
   "cell_type": "code",
   "execution_count": null,
   "metadata": {},
   "outputs": [],
   "source": [
    "# finding duplicated values\n",
    "df[df.duplicated()]"
   ]
  },
  {
   "cell_type": "code",
   "execution_count": null,
   "metadata": {},
   "outputs": [],
   "source": []
  },
  {
   "cell_type": "markdown",
   "metadata": {},
   "source": []
  },
  {
   "cell_type": "markdown",
   "metadata": {},
   "source": [
    "### Data 10"
   ]
  },
  {
   "cell_type": "code",
   "execution_count": 13,
   "metadata": {},
   "outputs": [],
   "source": [
    "# importing Covid data of Time series by recovered cases\n",
    "TS_recovered = pd.read_csv(os.path.join(path, '02 Data', 'OriginalData','covid_19', 'TS_C19_recovered.csv'), index_col = False)"
   ]
  },
  {
   "cell_type": "code",
   "execution_count": 23,
   "metadata": {},
   "outputs": [
    {
     "data": {
      "text/plain": [
       "(253, 250)"
      ]
     },
     "execution_count": 23,
     "metadata": {},
     "output_type": "execute_result"
    }
   ],
   "source": [
    "TS_recovered.shape"
   ]
  },
  {
   "cell_type": "code",
   "execution_count": 33,
   "metadata": {},
   "outputs": [
    {
     "data": {
      "text/plain": [
       "Province/State    186\n",
       "Country/Region      0\n",
       "Lat                 0\n",
       "Long                0\n",
       "1/22/20             0\n",
       "                 ... \n",
       "9/19/20             0\n",
       "9/20/20             0\n",
       "9/21/20             0\n",
       "9/22/20             0\n",
       "9/23/20             0\n",
       "Length: 250, dtype: int64"
      ]
     },
     "execution_count": 33,
     "metadata": {},
     "output_type": "execute_result"
    }
   ],
   "source": [
    "# looking for missing value\n",
    "TS_recovered.isnull().sum()"
   ]
  },
  {
   "cell_type": "code",
   "execution_count": null,
   "metadata": {},
   "outputs": [],
   "source": [
    "# # no action was taken for the missing value in province and state column"
   ]
  },
  {
   "cell_type": "code",
   "execution_count": 70,
   "metadata": {},
   "outputs": [],
   "source": [
    "# finding duplicated valuesTS_recovered[TS_recovered.duplicated()]"
   ]
  },
  {
   "cell_type": "code",
   "execution_count": null,
   "metadata": {},
   "outputs": [],
   "source": [
    "# finding duplicated values\n",
    "df[df.duplicated()]"
   ]
  },
  {
   "cell_type": "code",
   "execution_count": null,
   "metadata": {},
   "outputs": [],
   "source": []
  },
  {
   "cell_type": "code",
   "execution_count": null,
   "metadata": {},
   "outputs": [],
   "source": []
  },
  {
   "cell_type": "code",
   "execution_count": null,
   "metadata": {},
   "outputs": [],
   "source": []
  },
  {
   "cell_type": "code",
   "execution_count": null,
   "metadata": {},
   "outputs": [],
   "source": []
  }
 ],
 "metadata": {
  "kernelspec": {
   "display_name": "Python 3",
   "language": "python",
   "name": "python3"
  },
  "language_info": {
   "codemirror_mode": {
    "name": "ipython",
    "version": 3
   },
   "file_extension": ".py",
   "mimetype": "text/x-python",
   "name": "python",
   "nbconvert_exporter": "python",
   "pygments_lexer": "ipython3",
   "version": "3.8.3"
  }
 },
 "nbformat": 4,
 "nbformat_minor": 4
}
