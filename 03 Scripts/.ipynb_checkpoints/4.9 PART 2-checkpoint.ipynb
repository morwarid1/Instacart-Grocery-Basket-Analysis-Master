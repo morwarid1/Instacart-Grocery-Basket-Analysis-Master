{
 "cells": [
  {
   "cell_type": "markdown",
   "metadata": {},
   "source": [
    "# Part 2 of Data visualization with python"
   ]
  },
  {
   "cell_type": "markdown",
   "metadata": {},
   "source": [
    "### Question 1 ) createing new notebook , importing libraries and importing the datafram from part 1"
   ]
  },
  {
   "cell_type": "code",
   "execution_count": 1,
   "metadata": {},
   "outputs": [],
   "source": [
    "# importing libraries\n",
    "import pandas as pd\n",
    "import numpy as np\n",
    "import os \n",
    "import matplotlib.pyplot as plt\n",
    "import seaborn as sns\n",
    "import scipy"
   ]
  },
  {
   "cell_type": "code",
   "execution_count": null,
   "metadata": {},
   "outputs": [],
   "source": [
    "#importing datafram from part 1 of the task  data back\n",
    "path = r'/Users/monajafizada/Documents/DataAnalytics/Project'\n",
    "Part_1 = pd.read_pickle(os.path.join(path, '02 Data', 'PreparedData','project_w_customer.pkl'))"
   ]
  },
  {
   "cell_type": "code",
   "execution_count": 3,
   "metadata": {},
   "outputs": [
    {
     "data": {
      "text/plain": [
       "(32434212, 37)"
      ]
     },
     "execution_count": 3,
     "metadata": {},
     "output_type": "execute_result"
    }
   ],
   "source": [
    "Part_1.shape"
   ]
  },
  {
   "cell_type": "code",
   "execution_count": 4,
   "metadata": {},
   "outputs": [
    {
     "data": {
      "text/plain": [
       "Index(['User_ID', 'First Name', 'Surname', 'Gender', 'State', 'Age',\n",
       "       'Date_Joined', 'Number_of_Dependants', 'Martial_Status', 'Income',\n",
       "       'order_id', 'eval_set', 'order_number', 'order_dow',\n",
       "       'order_hour_of_day', 'days_since_prior_order', 'product_id',\n",
       "       'add_to_cart_order', 'reordered', '_merge', 'product_name', 'aisle_id',\n",
       "       'department_id', 'prices', 'price_range_loc', 'busiest day',\n",
       "       'busiest days', 'slowest days', 'Most orders', 'Averege orders',\n",
       "       'Fewest orders', 'max_order', 'loyalty_flag', 'average_prices',\n",
       "       'spending_flag', 'ordering behavior', 'order_frequency_flag'],\n",
       "      dtype='object')"
      ]
     },
     "execution_count": 4,
     "metadata": {},
     "output_type": "execute_result"
    }
   ],
   "source": [
    "Part_1.columns"
   ]
  },
  {
   "cell_type": "markdown",
   "metadata": {},
   "source": [
    "### Question 2 ) creating bart chart, a histogram, a scatterplot, and a line chart, using a sample subset for the line chart"
   ]
  },
  {
   "cell_type": "code",
   "execution_count": 5,
   "metadata": {},
   "outputs": [
    {
     "data": {
      "text/plain": [
       "<matplotlib.axes._subplots.AxesSubplot at 0x7f9784c74100>"
      ]
     },
     "execution_count": 5,
     "metadata": {},
     "output_type": "execute_result"
    },
    {
     "data": {
      "image/png": "[encoded data removed]",
      "text/plain": [
       "<Figure size 432x288 with 1 Axes>"
      ]
     },
     "metadata": {
      "needs_background": "light"
     },
     "output_type": "display_data"
    }
   ],
   "source": [
    "# Creating bar chart for orders_day_of_the_week\n",
    "Part_1['order_dow'].value_counts().plot.bar()"
   ]
  },
  {
   "cell_type": "code",
   "execution_count": 6,
   "metadata": {},
   "outputs": [
    {
     "data": {
      "text/plain": [
       "<matplotlib.axes._subplots.AxesSubplot at 0x7f9784d38bb0>"
      ]
     },
     "execution_count": 6,
     "metadata": {},
     "output_type": "execute_result"
    },
    {
     "data": {
      "image/png": "[encoded data removed]",
      "text/plain": [
       "<Figure size 432x288 with 1 Axes>"
      ]
     },
     "metadata": {
      "needs_background": "light"
     },
     "output_type": "display_data"
    }
   ],
   "source": [
    "# sorting the index according to thier index order\n",
    "Part_1['order_dow'].value_counts().sort_index().plot.bar()"
   ]
  },
  {
   "cell_type": "code",
   "execution_count": 48,
   "metadata": {},
   "outputs": [
    {
     "data": {
      "image/png": "[encoded data removed]",
      "text/plain": [
       "<Figure size 432x288 with 1 Axes>"
      ]
     },
     "metadata": {
      "needs_background": "light"
     },
     "output_type": "display_data"
    }
   ],
   "source": [
    "# adding colour to the chart\n",
    "bar_order_dow= Part_1['order_dow'].value_counts().sort_index().plot.bar(color =['purple','red','pink','orange','yellow','green','blue'])"
   ]
  },
  {
   "cell_type": "code",
   "execution_count": 8,
   "metadata": {},
   "outputs": [
    {
     "data": {
      "text/plain": [
       "<matplotlib.axes._subplots.AxesSubplot at 0x7f9784f10e50>"
      ]
     },
     "execution_count": 8,
     "metadata": {},
     "output_type": "execute_result"
    },
    {
     "data": {
      "image/png": "[encoded data removed]",
      "text/plain": [
       "<Figure size 432x288 with 1 Axes>"
      ]
     },
     "metadata": {
      "needs_background": "light"
     },
     "output_type": "display_data"
    }
   ],
   "source": [
    "# Creating a histogram for prices \n",
    "Part_1['prices'].plot.hist(bins = 25)"
   ]
  },
  {
   "cell_type": "code",
   "execution_count": 9,
   "metadata": {},
   "outputs": [
    {
     "data": {
      "text/plain": [
       "<bound method NDFrame.describe of 0            9.0\n",
       "1            9.0\n",
       "2            9.0\n",
       "3           12.6\n",
       "4           12.6\n",
       "            ... \n",
       "32434207     4.7\n",
       "32434208     4.0\n",
       "32434209     4.7\n",
       "32434210     1.8\n",
       "32434211     6.0\n",
       "Name: prices, Length: 32434212, dtype: float64>"
      ]
     },
     "execution_count": 9,
     "metadata": {},
     "output_type": "execute_result"
    }
   ],
   "source": [
    "Part_1['prices'].describe"
   ]
  },
  {
   "cell_type": "code",
   "execution_count": 10,
   "metadata": {},
   "outputs": [
    {
     "data": {
      "text/plain": [
       "11.981143923272342"
      ]
     },
     "execution_count": 10,
     "metadata": {},
     "output_type": "execute_result"
    }
   ],
   "source": [
    "Part_1['prices'].mean()"
   ]
  },
  {
   "cell_type": "code",
   "execution_count": 11,
   "metadata": {},
   "outputs": [
    {
     "data": {
      "text/plain": [
       "7.4"
      ]
     },
     "execution_count": 11,
     "metadata": {},
     "output_type": "execute_result"
    }
   ],
   "source": [
    "Part_1['prices'].median()"
   ]
  },
  {
   "cell_type": "code",
   "execution_count": 12,
   "metadata": {},
   "outputs": [
    {
     "data": {
      "text/plain": [
       "99999.0"
      ]
     },
     "execution_count": 12,
     "metadata": {},
     "output_type": "execute_result"
    }
   ],
   "source": [
    "Part_1['prices'].max()"
   ]
  },
  {
   "cell_type": "code",
   "execution_count": 50,
   "metadata": {},
   "outputs": [
    {
     "data": {
      "image/png": "[encoded data removed]",
      "text/plain": [
       "<Figure size 432x288 with 1 Axes>"
      ]
     },
     "metadata": {
      "needs_background": "light"
     },
     "output_type": "display_data"
    }
   ],
   "source": [
    "# creating a scatterplot for prices column against itself\n",
    "scatter_price= sns.scatterplot( x = 'prices', y = 'prices', data = Part_1)"
   ]
  },
  {
   "cell_type": "code",
   "execution_count": 14,
   "metadata": {},
   "outputs": [
    {
     "data": {
      "text/html": [
       "<div>\n",
       "<style scoped>\n",
       "    .dataframe tbody tr th:only-of-type {\n",
       "        vertical-align: middle;\n",
       "    }\n",
       "\n",
       "    .dataframe tbody tr th {\n",
       "        vertical-align: top;\n",
       "    }\n",
       "\n",
       "    .dataframe thead th {\n",
       "        text-align: right;\n",
       "    }\n",
       "</style>\n",
       "<table border=\"1\" class=\"dataframe\">\n",
       "  <thead>\n",
       "    <tr style=\"text-align: right;\">\n",
       "      <th></th>\n",
       "      <th>User_ID</th>\n",
       "      <th>First Name</th>\n",
       "      <th>Surname</th>\n",
       "      <th>Gender</th>\n",
       "      <th>State</th>\n",
       "      <th>Age</th>\n",
       "      <th>Date_Joined</th>\n",
       "      <th>Number_of_Dependants</th>\n",
       "      <th>Martial_Status</th>\n",
       "      <th>Income</th>\n",
       "      <th>...</th>\n",
       "      <th>slowest days</th>\n",
       "      <th>Most orders</th>\n",
       "      <th>Averege orders</th>\n",
       "      <th>Fewest orders</th>\n",
       "      <th>max_order</th>\n",
       "      <th>loyalty_flag</th>\n",
       "      <th>average_prices</th>\n",
       "      <th>spending_flag</th>\n",
       "      <th>ordering behavior</th>\n",
       "      <th>order_frequency_flag</th>\n",
       "    </tr>\n",
       "  </thead>\n",
       "  <tbody>\n",
       "    <tr>\n",
       "      <th>5547</th>\n",
       "      <td>117740</td>\n",
       "      <td>Lisa</td>\n",
       "      <td>Sparks</td>\n",
       "      <td>Female</td>\n",
       "      <td>Oregon</td>\n",
       "      <td>55</td>\n",
       "      <td>1/1/2017</td>\n",
       "      <td>1</td>\n",
       "      <td>married</td>\n",
       "      <td>292759</td>\n",
       "      <td>...</td>\n",
       "      <td>Most orders</td>\n",
       "      <td>Most orders</td>\n",
       "      <td>Most orders</td>\n",
       "      <td>Most orders</td>\n",
       "      <td>84</td>\n",
       "      <td>loyal customer</td>\n",
       "      <td>36.928431</td>\n",
       "      <td>high spender</td>\n",
       "      <td>4.0</td>\n",
       "      <td>Frequent customer</td>\n",
       "    </tr>\n",
       "    <tr>\n",
       "      <th>10305</th>\n",
       "      <td>31590</td>\n",
       "      <td>Beverly</td>\n",
       "      <td>Sanford</td>\n",
       "      <td>Female</td>\n",
       "      <td>Montana</td>\n",
       "      <td>46</td>\n",
       "      <td>1/1/2017</td>\n",
       "      <td>0</td>\n",
       "      <td>single</td>\n",
       "      <td>154076</td>\n",
       "      <td>...</td>\n",
       "      <td>Averege orders</td>\n",
       "      <td>Averege orders</td>\n",
       "      <td>Averege orders</td>\n",
       "      <td>Averege orders</td>\n",
       "      <td>38</td>\n",
       "      <td>Regular customer</td>\n",
       "      <td>58.139865</td>\n",
       "      <td>high spender</td>\n",
       "      <td>8.0</td>\n",
       "      <td>Frequent customer</td>\n",
       "    </tr>\n",
       "    <tr>\n",
       "      <th>27956</th>\n",
       "      <td>100958</td>\n",
       "      <td>Benjamin</td>\n",
       "      <td>Parsons</td>\n",
       "      <td>Male</td>\n",
       "      <td>North Dakota</td>\n",
       "      <td>18</td>\n",
       "      <td>1/2/2017</td>\n",
       "      <td>2</td>\n",
       "      <td>living with parents and siblings</td>\n",
       "      <td>113408</td>\n",
       "      <td>...</td>\n",
       "      <td>Averege orders</td>\n",
       "      <td>Averege orders</td>\n",
       "      <td>Averege orders</td>\n",
       "      <td>Averege orders</td>\n",
       "      <td>5</td>\n",
       "      <td>New customer</td>\n",
       "      <td>627.991667</td>\n",
       "      <td>high spender</td>\n",
       "      <td>11.0</td>\n",
       "      <td>Regular customer</td>\n",
       "    </tr>\n",
       "    <tr>\n",
       "      <th>27957</th>\n",
       "      <td>100958</td>\n",
       "      <td>Benjamin</td>\n",
       "      <td>Parsons</td>\n",
       "      <td>Male</td>\n",
       "      <td>North Dakota</td>\n",
       "      <td>18</td>\n",
       "      <td>1/2/2017</td>\n",
       "      <td>2</td>\n",
       "      <td>living with parents and siblings</td>\n",
       "      <td>113408</td>\n",
       "      <td>...</td>\n",
       "      <td>Averege orders</td>\n",
       "      <td>Averege orders</td>\n",
       "      <td>Averege orders</td>\n",
       "      <td>Averege orders</td>\n",
       "      <td>5</td>\n",
       "      <td>New customer</td>\n",
       "      <td>627.991667</td>\n",
       "      <td>high spender</td>\n",
       "      <td>11.0</td>\n",
       "      <td>Regular customer</td>\n",
       "    </tr>\n",
       "    <tr>\n",
       "      <th>27958</th>\n",
       "      <td>100958</td>\n",
       "      <td>Benjamin</td>\n",
       "      <td>Parsons</td>\n",
       "      <td>Male</td>\n",
       "      <td>North Dakota</td>\n",
       "      <td>18</td>\n",
       "      <td>1/2/2017</td>\n",
       "      <td>2</td>\n",
       "      <td>living with parents and siblings</td>\n",
       "      <td>113408</td>\n",
       "      <td>...</td>\n",
       "      <td>Averege orders</td>\n",
       "      <td>Averege orders</td>\n",
       "      <td>Averege orders</td>\n",
       "      <td>Averege orders</td>\n",
       "      <td>5</td>\n",
       "      <td>New customer</td>\n",
       "      <td>627.991667</td>\n",
       "      <td>high spender</td>\n",
       "      <td>11.0</td>\n",
       "      <td>Regular customer</td>\n",
       "    </tr>\n",
       "    <tr>\n",
       "      <th>...</th>\n",
       "      <td>...</td>\n",
       "      <td>...</td>\n",
       "      <td>...</td>\n",
       "      <td>...</td>\n",
       "      <td>...</td>\n",
       "      <td>...</td>\n",
       "      <td>...</td>\n",
       "      <td>...</td>\n",
       "      <td>...</td>\n",
       "      <td>...</td>\n",
       "      <td>...</td>\n",
       "      <td>...</td>\n",
       "      <td>...</td>\n",
       "      <td>...</td>\n",
       "      <td>...</td>\n",
       "      <td>...</td>\n",
       "      <td>...</td>\n",
       "      <td>...</td>\n",
       "      <td>...</td>\n",
       "      <td>...</td>\n",
       "      <td>...</td>\n",
       "    </tr>\n",
       "    <tr>\n",
       "      <th>32420268</th>\n",
       "      <td>5519</td>\n",
       "      <td>Kathy</td>\n",
       "      <td>Daniel</td>\n",
       "      <td>Female</td>\n",
       "      <td>Georgia</td>\n",
       "      <td>78</td>\n",
       "      <td>4/1/2020</td>\n",
       "      <td>3</td>\n",
       "      <td>married</td>\n",
       "      <td>262610</td>\n",
       "      <td>...</td>\n",
       "      <td>Averege orders</td>\n",
       "      <td>Averege orders</td>\n",
       "      <td>Averege orders</td>\n",
       "      <td>Averege orders</td>\n",
       "      <td>53</td>\n",
       "      <td>loyal customer</td>\n",
       "      <td>69.638604</td>\n",
       "      <td>high spender</td>\n",
       "      <td>7.0</td>\n",
       "      <td>Frequent customer</td>\n",
       "    </tr>\n",
       "    <tr>\n",
       "      <th>32420269</th>\n",
       "      <td>5519</td>\n",
       "      <td>Kathy</td>\n",
       "      <td>Daniel</td>\n",
       "      <td>Female</td>\n",
       "      <td>Georgia</td>\n",
       "      <td>78</td>\n",
       "      <td>4/1/2020</td>\n",
       "      <td>3</td>\n",
       "      <td>married</td>\n",
       "      <td>262610</td>\n",
       "      <td>...</td>\n",
       "      <td>Averege orders</td>\n",
       "      <td>Averege orders</td>\n",
       "      <td>Averege orders</td>\n",
       "      <td>Averege orders</td>\n",
       "      <td>53</td>\n",
       "      <td>loyal customer</td>\n",
       "      <td>69.638604</td>\n",
       "      <td>high spender</td>\n",
       "      <td>7.0</td>\n",
       "      <td>Frequent customer</td>\n",
       "    </tr>\n",
       "    <tr>\n",
       "      <th>32420270</th>\n",
       "      <td>5519</td>\n",
       "      <td>Kathy</td>\n",
       "      <td>Daniel</td>\n",
       "      <td>Female</td>\n",
       "      <td>Georgia</td>\n",
       "      <td>78</td>\n",
       "      <td>4/1/2020</td>\n",
       "      <td>3</td>\n",
       "      <td>married</td>\n",
       "      <td>262610</td>\n",
       "      <td>...</td>\n",
       "      <td>Averege orders</td>\n",
       "      <td>Averege orders</td>\n",
       "      <td>Averege orders</td>\n",
       "      <td>Averege orders</td>\n",
       "      <td>53</td>\n",
       "      <td>loyal customer</td>\n",
       "      <td>69.638604</td>\n",
       "      <td>high spender</td>\n",
       "      <td>7.0</td>\n",
       "      <td>Frequent customer</td>\n",
       "    </tr>\n",
       "    <tr>\n",
       "      <th>32426336</th>\n",
       "      <td>140589</td>\n",
       "      <td>Clarence</td>\n",
       "      <td>Harper</td>\n",
       "      <td>Male</td>\n",
       "      <td>Maryland</td>\n",
       "      <td>26</td>\n",
       "      <td>4/1/2020</td>\n",
       "      <td>0</td>\n",
       "      <td>single</td>\n",
       "      <td>154845</td>\n",
       "      <td>...</td>\n",
       "      <td>Averege orders</td>\n",
       "      <td>Averege orders</td>\n",
       "      <td>Averege orders</td>\n",
       "      <td>Averege orders</td>\n",
       "      <td>9</td>\n",
       "      <td>New customer</td>\n",
       "      <td>876.974783</td>\n",
       "      <td>high spender</td>\n",
       "      <td>20.0</td>\n",
       "      <td>Regular customer</td>\n",
       "    </tr>\n",
       "    <tr>\n",
       "      <th>32429337</th>\n",
       "      <td>200065</td>\n",
       "      <td>Gary</td>\n",
       "      <td>Wilson</td>\n",
       "      <td>Male</td>\n",
       "      <td>Tennessee</td>\n",
       "      <td>59</td>\n",
       "      <td>4/1/2020</td>\n",
       "      <td>3</td>\n",
       "      <td>married</td>\n",
       "      <td>243617</td>\n",
       "      <td>...</td>\n",
       "      <td>Averege orders</td>\n",
       "      <td>Averege orders</td>\n",
       "      <td>Averege orders</td>\n",
       "      <td>Averege orders</td>\n",
       "      <td>18</td>\n",
       "      <td>Regular customer</td>\n",
       "      <td>96.595833</td>\n",
       "      <td>high spender</td>\n",
       "      <td>12.0</td>\n",
       "      <td>Regular customer</td>\n",
       "    </tr>\n",
       "  </tbody>\n",
       "</table>\n",
       "<p>5127 rows × 37 columns</p>\n",
       "</div>"
      ],
      "text/plain": [
       "          User_ID First Name  Surname  Gender         State  Age Date_Joined  \\\n",
       "5547       117740       Lisa   Sparks  Female        Oregon   55    1/1/2017   \n",
       "10305       31590    Beverly  Sanford  Female       Montana   46    1/1/2017   \n",
       "27956      100958   Benjamin  Parsons    Male  North Dakota   18    1/2/2017   \n",
       "27957      100958   Benjamin  Parsons    Male  North Dakota   18    1/2/2017   \n",
       "27958      100958   Benjamin  Parsons    Male  North Dakota   18    1/2/2017   \n",
       "...           ...        ...      ...     ...           ...  ...         ...   \n",
       "32420268     5519      Kathy   Daniel  Female       Georgia   78    4/1/2020   \n",
       "32420269     5519      Kathy   Daniel  Female       Georgia   78    4/1/2020   \n",
       "32420270     5519      Kathy   Daniel  Female       Georgia   78    4/1/2020   \n",
       "32426336   140589   Clarence   Harper    Male      Maryland   26    4/1/2020   \n",
       "32429337   200065       Gary   Wilson    Male     Tennessee   59    4/1/2020   \n",
       "\n",
       "          Number_of_Dependants                    Martial_Status  Income  ...  \\\n",
       "5547                         1                           married  292759  ...   \n",
       "10305                        0                            single  154076  ...   \n",
       "27956                        2  living with parents and siblings  113408  ...   \n",
       "27957                        2  living with parents and siblings  113408  ...   \n",
       "27958                        2  living with parents and siblings  113408  ...   \n",
       "...                        ...                               ...     ...  ...   \n",
       "32420268                     3                           married  262610  ...   \n",
       "32420269                     3                           married  262610  ...   \n",
       "32420270                     3                           married  262610  ...   \n",
       "32426336                     0                            single  154845  ...   \n",
       "32429337                     3                           married  243617  ...   \n",
       "\n",
       "            slowest days     Most orders  Averege orders   Fewest orders  \\\n",
       "5547         Most orders     Most orders     Most orders     Most orders   \n",
       "10305     Averege orders  Averege orders  Averege orders  Averege orders   \n",
       "27956     Averege orders  Averege orders  Averege orders  Averege orders   \n",
       "27957     Averege orders  Averege orders  Averege orders  Averege orders   \n",
       "27958     Averege orders  Averege orders  Averege orders  Averege orders   \n",
       "...                  ...             ...             ...             ...   \n",
       "32420268  Averege orders  Averege orders  Averege orders  Averege orders   \n",
       "32420269  Averege orders  Averege orders  Averege orders  Averege orders   \n",
       "32420270  Averege orders  Averege orders  Averege orders  Averege orders   \n",
       "32426336  Averege orders  Averege orders  Averege orders  Averege orders   \n",
       "32429337  Averege orders  Averege orders  Averege orders  Averege orders   \n",
       "\n",
       "          max_order      loyalty_flag  average_prices  spending_flag  \\\n",
       "5547             84    loyal customer       36.928431   high spender   \n",
       "10305            38  Regular customer       58.139865   high spender   \n",
       "27956             5      New customer      627.991667   high spender   \n",
       "27957             5      New customer      627.991667   high spender   \n",
       "27958             5      New customer      627.991667   high spender   \n",
       "...             ...               ...             ...            ...   \n",
       "32420268         53    loyal customer       69.638604   high spender   \n",
       "32420269         53    loyal customer       69.638604   high spender   \n",
       "32420270         53    loyal customer       69.638604   high spender   \n",
       "32426336          9      New customer      876.974783   high spender   \n",
       "32429337         18  Regular customer       96.595833   high spender   \n",
       "\n",
       "          ordering behavior order_frequency_flag  \n",
       "5547                    4.0    Frequent customer  \n",
       "10305                   8.0    Frequent customer  \n",
       "27956                  11.0     Regular customer  \n",
       "27957                  11.0     Regular customer  \n",
       "27958                  11.0     Regular customer  \n",
       "...                     ...                  ...  \n",
       "32420268                7.0    Frequent customer  \n",
       "32420269                7.0    Frequent customer  \n",
       "32420270                7.0    Frequent customer  \n",
       "32426336               20.0     Regular customer  \n",
       "32429337               12.0     Regular customer  \n",
       "\n",
       "[5127 rows x 37 columns]"
      ]
     },
     "execution_count": 14,
     "metadata": {},
     "output_type": "execute_result"
    }
   ],
   "source": [
    "# if the max price is 100- lets check for the outlier again\n",
    "Part_1[Part_1['prices']>100]"
   ]
  },
  {
   "cell_type": "code",
   "execution_count": 15,
   "metadata": {},
   "outputs": [],
   "source": [
    "#There are 5127 rows with outlier observations- prices greater than 100 "
   ]
  },
  {
   "cell_type": "code",
   "execution_count": 16,
   "metadata": {},
   "outputs": [],
   "source": [
    "# turning the outliers to Nan\n",
    "Part_1.loc[Part_1['prices']>100,'prices'] = np.nan"
   ]
  },
  {
   "cell_type": "code",
   "execution_count": 17,
   "metadata": {},
   "outputs": [
    {
     "data": {
      "text/plain": [
       "25.0"
      ]
     },
     "execution_count": 17,
     "metadata": {},
     "output_type": "execute_result"
    }
   ],
   "source": [
    "#lets check the result\n",
    "Part_1['prices'].max()"
   ]
  },
  {
   "cell_type": "code",
   "execution_count": 18,
   "metadata": {},
   "outputs": [],
   "source": [
    "# now the prices 25 looks normal "
   ]
  },
  {
   "cell_type": "code",
   "execution_count": 19,
   "metadata": {},
   "outputs": [
    {
     "data": {
      "image/png": "[encoded data removed]",
      "text/plain": [
       "<Figure size 432x288 with 1 Axes>"
      ]
     },
     "metadata": {
      "needs_background": "light"
     },
     "output_type": "display_data"
    }
   ],
   "source": [
    "# after cleaning the lets try the histogram graph again \n",
    "hist = Part_1['prices'].plot.hist(bins = 25)"
   ]
  },
  {
   "cell_type": "code",
   "execution_count": 20,
   "metadata": {},
   "outputs": [
    {
     "data": {
      "text/plain": [
       "array([0.24725655, 0.20184987, 0.16259836, 0.29477884, 0.91105934,\n",
       "       0.44561505, 0.70855008, 0.97212903, 0.28071112, 0.04562829])"
      ]
     },
     "execution_count": 20,
     "metadata": {},
     "output_type": "execute_result"
    }
   ],
   "source": [
    "np.random.rand(10)"
   ]
  },
  {
   "cell_type": "code",
   "execution_count": 21,
   "metadata": {},
   "outputs": [],
   "source": [
    "# creating a list holding Tru/False values to the test np.random.rant() <= 0.7\n",
    "dev = np.random.rand(len(Part_1)) <=0.7 "
   ]
  },
  {
   "cell_type": "code",
   "execution_count": 22,
   "metadata": {},
   "outputs": [],
   "source": [
    "big = Part_1[dev]"
   ]
  },
  {
   "cell_type": "code",
   "execution_count": 23,
   "metadata": {},
   "outputs": [],
   "source": [
    "small = Part_1[~dev]"
   ]
  },
  {
   "cell_type": "code",
   "execution_count": 24,
   "metadata": {},
   "outputs": [
    {
     "data": {
      "text/plain": [
       "32434212"
      ]
     },
     "execution_count": 24,
     "metadata": {},
     "output_type": "execute_result"
    }
   ],
   "source": [
    "len(Part_1)"
   ]
  },
  {
   "cell_type": "code",
   "execution_count": 25,
   "metadata": {},
   "outputs": [
    {
     "data": {
      "text/plain": [
       "32434212"
      ]
     },
     "execution_count": 25,
     "metadata": {},
     "output_type": "execute_result"
    }
   ],
   "source": [
    "len(big)+ len(small)"
   ]
  },
  {
   "cell_type": "code",
   "execution_count": 26,
   "metadata": {},
   "outputs": [],
   "source": [
    "df_2 = small[['order_dow','prices']]"
   ]
  },
  {
   "cell_type": "code",
   "execution_count": 27,
   "metadata": {},
   "outputs": [
    {
     "data": {
      "image/png": "[encoded data removed]",
      "text/plain": [
       "<Figure size 432x288 with 1 Axes>"
      ]
     },
     "metadata": {
      "needs_background": "light"
     },
     "output_type": "display_data"
    }
   ],
   "source": [
    "line = sns.lineplot(data = df_2, x ='order_dow', y='prices')"
   ]
  },
  {
   "cell_type": "code",
   "execution_count": 28,
   "metadata": {},
   "outputs": [],
   "source": [
    "df_4 = Part_1[['order_dow','prices']]"
   ]
  },
  {
   "cell_type": "code",
   "execution_count": 29,
   "metadata": {},
   "outputs": [
    {
     "data": {
      "image/png": "[encoded data removed]",
      "text/plain": [
       "<Figure size 432x288 with 1 Axes>"
      ]
     },
     "metadata": {
      "needs_background": "light"
     },
     "output_type": "display_data"
    }
   ],
   "source": [
    "line_2 = sns.lineplot (data =df_4, x ='order_dow', y='prices')"
   ]
  },
  {
   "cell_type": "markdown",
   "metadata": {},
   "source": [
    "### Question 3 ) creating a histogram of the \"order_hour_of_day\" and describe what the histogram demonstrates"
   ]
  },
  {
   "cell_type": "code",
   "execution_count": 30,
   "metadata": {},
   "outputs": [
    {
     "data": {
      "image/png": "[encoded data removed]",
      "text/plain": [
       "<Figure size 432x288 with 1 Axes>"
      ]
     },
     "metadata": {
      "needs_background": "light"
     },
     "output_type": "display_data"
    }
   ],
   "source": [
    "# Creating a histogram for 'order_hour_of_day'\n",
    "Hist_Hour = Part_1['order_hour_of_day'].plot.hist(bins = 25)"
   ]
  },
  {
   "cell_type": "code",
   "execution_count": 31,
   "metadata": {},
   "outputs": [],
   "source": [
    "# looking at the histogram we can see that between 10 to 15 thier is an emply bar. \n",
    "# It showes that at that hour of the day there is no order\n",
    "# while the hours that are shaded in blue showes the busiest hour of the day."
   ]
  },
  {
   "cell_type": "markdown",
   "metadata": {},
   "source": [
    "### Question 4 ) Creating a bart chart from the  \"loyalty_flag\""
   ]
  },
  {
   "cell_type": "code",
   "execution_count": 32,
   "metadata": {},
   "outputs": [
    {
     "data": {
      "image/png": "[encoded data removed]",
      "text/plain": [
       "<Figure size 432x288 with 1 Axes>"
      ]
     },
     "metadata": {
      "needs_background": "light"
     },
     "output_type": "display_data"
    }
   ],
   "source": [
    "# creating bar chart for loyalt flag\n",
    "Loyat_flag_chart= Part_1['loyalty_flag'].value_counts().plot.bar(color =['yellow','red','blue'])"
   ]
  },
  {
   "cell_type": "markdown",
   "metadata": {},
   "source": [
    "### Question 5 ) checking the difference in expenditure ( the \"price\" column) depnding on the hour of the day - using an accurate sample for your line chart"
   ]
  },
  {
   "cell_type": "code",
   "execution_count": 33,
   "metadata": {},
   "outputs": [],
   "source": [
    "# creating a list holding Tru/False values to the test np.random.rant() <= 0.7\n",
    "dev_hod = np.random.rand(len(Part_1)) <=0.8"
   ]
  },
  {
   "cell_type": "code",
   "execution_count": 34,
   "metadata": {},
   "outputs": [],
   "source": [
    "big_hod = Part_1[dev_hod]"
   ]
  },
  {
   "cell_type": "code",
   "execution_count": 35,
   "metadata": {},
   "outputs": [],
   "source": [
    "small_hod = Part_1[~dev_hod]"
   ]
  },
  {
   "cell_type": "code",
   "execution_count": 36,
   "metadata": {},
   "outputs": [
    {
     "data": {
      "text/plain": [
       "32434212"
      ]
     },
     "execution_count": 36,
     "metadata": {},
     "output_type": "execute_result"
    }
   ],
   "source": [
    "len(Part_1)"
   ]
  },
  {
   "cell_type": "code",
   "execution_count": 37,
   "metadata": {},
   "outputs": [
    {
     "data": {
      "text/plain": [
       "32434212"
      ]
     },
     "execution_count": 37,
     "metadata": {},
     "output_type": "execute_result"
    }
   ],
   "source": [
    "len(big_hod)+ len(small_hod)"
   ]
  },
  {
   "cell_type": "code",
   "execution_count": 38,
   "metadata": {},
   "outputs": [],
   "source": [
    "df_2_hod = small_hod[['order_hour_of_day','prices']]"
   ]
  },
  {
   "cell_type": "code",
   "execution_count": 39,
   "metadata": {},
   "outputs": [
    {
     "data": {
      "image/png": "[encoded data removed]",
      "text/plain": [
       "<Figure size 432x288 with 1 Axes>"
      ]
     },
     "metadata": {
      "needs_background": "light"
     },
     "output_type": "display_data"
    }
   ],
   "source": [
    "line_2_hod = sns.lineplot(data = df_2_hod, x ='order_hour_of_day', y='prices')"
   ]
  },
  {
   "cell_type": "code",
   "execution_count": 40,
   "metadata": {},
   "outputs": [],
   "source": [
    "df_4_hod = Part_1[['order_hour_of_day','prices']]"
   ]
  },
  {
   "cell_type": "code",
   "execution_count": 41,
   "metadata": {},
   "outputs": [
    {
     "data": {
      "image/png": "[encoded data removed]",
      "text/plain": [
       "<Figure size 432x288 with 1 Axes>"
      ]
     },
     "metadata": {
      "needs_background": "light"
     },
     "output_type": "display_data"
    }
   ],
   "source": [
    "line_4_hod = sns.lineplot (data =df_4_hod, x ='order_hour_of_day', y='prices')"
   ]
  },
  {
   "cell_type": "markdown",
   "metadata": {},
   "source": [
    "### Question 6 ) Creating a line chart exploring the connections between age and number of dependents - describe what the line chart shows"
   ]
  },
  {
   "cell_type": "code",
   "execution_count": 42,
   "metadata": {},
   "outputs": [],
   "source": [
    "# Creating line chart to find connection between age and number ofdependents\n",
    "df_fam = Part_1[['Age','Number_of_Dependants']]"
   ]
  },
  {
   "cell_type": "code",
   "execution_count": 43,
   "metadata": {},
   "outputs": [
    {
     "data": {
      "image/png": "[encoded data removed]",
      "text/plain": [
       "<Figure size 432x288 with 1 Axes>"
      ]
     },
     "metadata": {
      "needs_background": "light"
     },
     "output_type": "display_data"
    }
   ],
   "source": [
    "line_fam = sns.lineplot (data =df_fam, x ='Age', y='Number_of_Dependants')"
   ]
  },
  {
   "cell_type": "code",
   "execution_count": null,
   "metadata": {},
   "outputs": [],
   "source": [
    "# describeing the graph\n",
    "# the graph shoes that the age and number of dependents do not have a clear conection. \n",
    "# however, the number of dependents fluctuate in each different ages\n",
    "# between age 58 to 61 the number od dependents seems to increase. \n",
    "# and between age 30 to 50 the number of depenants seems to have a steady fluctuation. "
   ]
  },
  {
   "cell_type": "markdown",
   "metadata": {},
   "source": [
    "### Question 7 ) Creating a scatterplot using the sns.scatterplot () function - describe what the scatterplot shows"
   ]
  },
  {
   "cell_type": "code",
   "execution_count": 47,
   "metadata": {},
   "outputs": [
    {
     "data": {
      "image/png": "[encoded data removed]",
      "text/plain": [
       "<Figure size 432x288 with 1 Axes>"
      ]
     },
     "metadata": {
      "needs_background": "light"
     },
     "output_type": "display_data"
    }
   ],
   "source": [
    "# creating a scatterplot for prices column against itself\n",
    "scatter_spending= sns.scatterplot( x = 'Age', y = 'spending_flag', data = Part_1)"
   ]
  },
  {
   "cell_type": "code",
   "execution_count": null,
   "metadata": {},
   "outputs": [],
   "source": [
    "# describeing the graph\n",
    "# the graph showes that the low spender and high spenders are having a constant line per age. \n",
    "# it showes that the age does not have impact on the spending power growth or decrease. "
   ]
  },
  {
   "cell_type": "markdown",
   "metadata": {},
   "source": [
    "### Question 8 ) exporting the visualization as \".png\" file"
   ]
  },
  {
   "cell_type": "code",
   "execution_count": 49,
   "metadata": {},
   "outputs": [],
   "source": [
    "bar_order_dow.figure.savefig(os.path.join(path, '04 Analysis', 'Visualization','bar_order_dow'))"
   ]
  },
  {
   "cell_type": "code",
   "execution_count": 51,
   "metadata": {},
   "outputs": [],
   "source": [
    "hist.figure.savefig(os.path.join(path, '04 Analysis', 'Visualization','hist_prices'))"
   ]
  },
  {
   "cell_type": "code",
   "execution_count": 52,
   "metadata": {},
   "outputs": [],
   "source": [
    "line.figure.savefig(os.path.join(path, '04 Analysis', 'Visualization','order_dow_prices_sampleD'))"
   ]
  },
  {
   "cell_type": "code",
   "execution_count": 53,
   "metadata": {},
   "outputs": [],
   "source": [
    "line_2.figure.savefig(os.path.join(path, '04 Analysis', 'Visualization','order_dow_prices_fullD'))"
   ]
  },
  {
   "cell_type": "code",
   "execution_count": 54,
   "metadata": {},
   "outputs": [],
   "source": [
    "Hist_Hour.figure.savefig(os.path.join(path, '04 Analysis', 'Visualization','Hist_order_Hour_d'))"
   ]
  },
  {
   "cell_type": "code",
   "execution_count": 55,
   "metadata": {},
   "outputs": [],
   "source": [
    "Loyat_flag_chart.figure.savefig(os.path.join(path, '04 Analysis', 'Visualization','bar_loyalty_flag'))"
   ]
  },
  {
   "cell_type": "code",
   "execution_count": 56,
   "metadata": {},
   "outputs": [],
   "source": [
    "line_2_hod.figure.savefig(os.path.join(path, '04 Analysis', 'Visualization','line_order_hour_d_sampleD'))"
   ]
  },
  {
   "cell_type": "code",
   "execution_count": 57,
   "metadata": {},
   "outputs": [],
   "source": [
    "line_4_hod.figure.savefig(os.path.join(path, '04 Analysis', 'Visualization','line_order_hour_d_fullD'))"
   ]
  },
  {
   "cell_type": "code",
   "execution_count": 58,
   "metadata": {},
   "outputs": [],
   "source": [
    "line_fam.figure.savefig(os.path.join(path, '04 Analysis', 'Visualization','line_age_fam_status'))"
   ]
  },
  {
   "cell_type": "code",
   "execution_count": 59,
   "metadata": {},
   "outputs": [],
   "source": [
    "scatter_spending.figure.savefig(os.path.join(path, '04 Analysis', 'Visualization','scatter_age_spending'))"
   ]
  },
  {
   "cell_type": "markdown",
   "metadata": {},
   "source": [
    "### Question 9 ) save the notebook"
   ]
  }
 ],
 "metadata": {
  "kernelspec": {
   "display_name": "Python 3",
   "language": "python",
   "name": "python3"
  },
  "language_info": {
   "codemirror_mode": {
    "name": "ipython",
    "version": 3
   },
   "file_extension": ".py",
   "mimetype": "text/x-python",
   "name": "python",
   "nbconvert_exporter": "python",
   "pygments_lexer": "ipython3",
   "version": "3.8.3"
  }
 },
 "nbformat": 4,
 "nbformat_minor": 4
}
